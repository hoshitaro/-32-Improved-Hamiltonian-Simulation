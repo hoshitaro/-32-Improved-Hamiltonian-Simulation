{
 "cells": [
  {
   "cell_type": "code",
   "execution_count": 1,
   "metadata": {},
   "outputs": [],
   "source": [
    "import numpy as np"
   ]
  },
  {
   "cell_type": "code",
   "execution_count": 18,
   "metadata": {},
   "outputs": [],
   "source": [
    "def check_power_of_a(n, a):\n",
    "    if n == 1:\n",
    "        return True\n",
    "    elif n % a == 0:\n",
    "        n = n / a\n",
    "        check_power_of_a(n, a)\n",
    "    else:\n",
    "        return False"
   ]
  },
  {
   "cell_type": "code",
   "execution_count": 16,
   "metadata": {},
   "outputs": [],
   "source": [
    "def uni_matrix_factory(last_column):\n",
    "    size = np.size(last_column)\n",
    "    col = last_column.reshape((size, 1))\n",
    "    a = np.zeros((size, size))\n",
    "\n",
    "    a[:, [-1]] = col\n",
    "    for i in range(size-1):\n",
    "        a[:i+1, [i]] = col[:i+1]\n",
    "        a[i+1, i] = - sum(col[:i+1]**2) / col[i+1]\n",
    "\n",
    "    for i in range(size):\n",
    "        a[:, i] = a[:, i] / np.sqrt(sum(a[:, i]**2))\n",
    "\n",
    "    a = np.fliplr(a)\n",
    "\n",
    "    if not check_power_of_a(a.shape[0], 2):\n",
    "        b = np.zeros((2**n_sum, 2**n_sum))\n",
    "        b[:size, :size] = a\n",
    "        a = b\n",
    "\n",
    "    return a"
   ]
  },
  {
   "cell_type": "code",
   "execution_count": 20,
   "metadata": {},
   "outputs": [
    {
     "data": {
      "text/plain": [
       "array([[ 0.13483997,  0.12309149,  0.19518001,  0.35856858,  0.89442719,\n",
       "         0.        ,  0.        ,  0.        ],\n",
       "       [ 0.26967994,  0.24618298,  0.39036003,  0.71713717, -0.4472136 ,\n",
       "         0.        ,  0.        ,  0.        ],\n",
       "       [ 0.40451992,  0.36927447,  0.58554004, -0.5976143 ,  0.        ,\n",
       "         0.        ,  0.        ,  0.        ],\n",
       "       [ 0.53935989,  0.49236596, -0.68313005,  0.        ,  0.        ,\n",
       "         0.        ,  0.        ,  0.        ],\n",
       "       [ 0.67419986, -0.73854895,  0.        ,  0.        ,  0.        ,\n",
       "         0.        ,  0.        ,  0.        ],\n",
       "       [ 0.        ,  0.        ,  0.        ,  0.        ,  0.        ,\n",
       "         0.        ,  0.        ,  0.        ],\n",
       "       [ 0.        ,  0.        ,  0.        ,  0.        ,  0.        ,\n",
       "         0.        ,  0.        ,  0.        ],\n",
       "       [ 0.        ,  0.        ,  0.        ,  0.        ,  0.        ,\n",
       "         0.        ,  0.        ,  0.        ]])"
      ]
     },
     "execution_count": 20,
     "metadata": {},
     "output_type": "execute_result"
    }
   ],
   "source": [
    "# Simple example\n",
    "n_sum = 3\n",
    "c = np.arange(1, 6)\n",
    "uni_matrix_factory(c)"
   ]
  },
  {
   "cell_type": "code",
   "execution_count": null,
   "metadata": {},
   "outputs": [],
   "source": []
  }
 ],
 "metadata": {
  "kernelspec": {
   "display_name": "Python 3",
   "language": "python",
   "name": "python3"
  },
  "language_info": {
   "codemirror_mode": {
    "name": "ipython",
    "version": 3
   },
   "file_extension": ".py",
   "mimetype": "text/x-python",
   "name": "python",
   "nbconvert_exporter": "python",
   "pygments_lexer": "ipython3",
   "version": "3.7.5"
  }
 },
 "nbformat": 4,
 "nbformat_minor": 2
}
