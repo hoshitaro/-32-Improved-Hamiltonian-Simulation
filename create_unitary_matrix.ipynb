{
 "cells": [
  {
   "cell_type": "code",
   "execution_count": 1,
   "metadata": {},
   "outputs": [],
   "source": [
    "import numpy as np"
   ]
  },
  {
   "cell_type": "code",
   "execution_count": 2,
   "metadata": {},
   "outputs": [],
   "source": [
    "def uni_matrix_factory(last_column):\n",
    "    n = np.size(last_column)\n",
    "    col = last_column.reshape((n, 1))\n",
    "    a = np.zeros((n,n))\n",
    "\n",
    "    a[:, [-1]] = col\n",
    "    for i in range(0, n-1):\n",
    "        a[:i+1, [i]] = col[:i+1]\n",
    "        a[i+1, i] = - sum(col[:i+1]**2) / col[i+1]\n",
    "\n",
    "    return a"
   ]
  },
  {
   "cell_type": "code",
   "execution_count": 3,
   "metadata": {},
   "outputs": [
    {
     "data": {
      "text/plain": [
       "array([[ 1.        ,  1.        ,  1.        ,  1.        ,  1.        ],\n",
       "       [-0.5       ,  2.        ,  2.        ,  2.        ,  2.        ],\n",
       "       [ 0.        , -1.66666667,  3.        ,  3.        ,  3.        ],\n",
       "       [ 0.        ,  0.        , -3.5       ,  4.        ,  4.        ],\n",
       "       [ 0.        ,  0.        ,  0.        , -6.        ,  5.        ]])"
      ]
     },
     "execution_count": 3,
     "metadata": {},
     "output_type": "execute_result"
    }
   ],
   "source": [
    "# Simple example\n",
    "c = np.arange(1, 6)\n",
    "uni_matrix_factory(c)"
   ]
  },
  {
   "cell_type": "code",
   "execution_count": null,
   "metadata": {},
   "outputs": [],
   "source": []
  }
 ],
 "metadata": {
  "kernelspec": {
   "display_name": "Python 3",
   "language": "python",
   "name": "python3"
  },
  "language_info": {
   "codemirror_mode": {
    "name": "ipython",
    "version": 3
   },
   "file_extension": ".py",
   "mimetype": "text/x-python",
   "name": "python",
   "nbconvert_exporter": "python",
   "pygments_lexer": "ipython3",
   "version": "3.7.1"
  }
 },
 "nbformat": 4,
 "nbformat_minor": 2
}
