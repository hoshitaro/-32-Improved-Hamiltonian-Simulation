{
 "cells": [
  {
   "cell_type": "code",
   "execution_count": 189,
   "metadata": {},
   "outputs": [],
   "source": [
    "from qiskit import QuantumRegister, ClassicalRegister, QuantumCircuit, BasicAer, execute\n",
    "from qiskit.aqua.utils.circuit_factory import CircuitFactory\n",
    "from utils.circuit_utils import cn_gate, multi_toffoli_q\n",
    "from exp_a23 import A23Factory\n",
    "from exp_a4 import A4Factory\n",
    "from exp_a1 import A1Factory\n",
    "import numpy as np\n",
    "from qiskit import Aer\n",
    "from qiskit.tools.visualization import plot_histogram, plot_state_city\n",
    "from qiskit.providers.aer import QasmSimulator, StatevectorSimulator, UnitarySimulator\n",
    "sv_simulator = Aer.get_backend('statevector_simulator')"
   ]
  },
  {
   "cell_type": "code",
   "execution_count": 100,
   "metadata": {},
   "outputs": [],
   "source": [
    "# V\n",
    "k = 1 # V degenerates into H if k=1\n",
    "theta = 2 * np.arcsin(1.0/np.sqrt(k+1))"
   ]
  },
  {
   "cell_type": "code",
   "execution_count": 177,
   "metadata": {},
   "outputs": [
    {
     "data": {
      "text/plain": [
       "<qiskit.circuit.instructionset.InstructionSet at 0x137b0b87fc8>"
      ]
     },
     "execution_count": 177,
     "metadata": {},
     "output_type": "execute_result"
    }
   ],
   "source": [
    "# # number of qubits n, where size of the matrix is 2**n\n",
    "# n = 3\n",
    "# t = 1\n",
    "# # b entry of the matrices\n",
    "# b_4 = 2\n",
    "# b_2 = 3\n",
    "\n",
    "# for test\n",
    "n = 1\n",
    "params=1\n",
    "\n",
    "#quantum register for the matrix\n",
    "qr = QuantumRegister(n+1)\n",
    "#ancilla qubits\n",
    "# qra = QuantumRegister(n-1)\n",
    "cr = ClassicalRegister(2*n)\n",
    "# qc = QuantumCircuit(qr, qra, cr)\n",
    "qc = QuantumCircuit(qr, cr)\n",
    "\n",
    "# TODO: substitute H by V\n",
    "qc.ry(theta, qr[n])\n",
    "\n",
    "# TODO: substitute by suitable exp(iH_jt)\n",
    "\n",
    "#1 controlled H_1 (here is exp_a4)\n",
    "# A4Factory(n).build_controlled(qc, qr, qr[n], qra, b_4*t)\n",
    "# testing using H1=X\n",
    "qc.cu3(-2*params, -np.pi/2, np.pi/2, qr[n], qr[0])\n",
    "\n",
    "#0 controlled H_2 (here is exp_a23)\n",
    "# qc.x(qr[n])\n",
    "# A1Factory(n).build_controlled(qc, qr, qr[n], qra, b_2*t)\n",
    "# qc.x(qr[n])\n",
    "# testing using H2=Z\n",
    "qc.x(qr[n])\n",
    "qc.cu3(0, 0, np.pi/2, qr[n], qr[0])\n",
    "qc.x(qr[n])\n",
    "\n",
    "# TODO: substitute H by V^dagger\n",
    "qc.ry(-theta, qr[n])\n",
    "# qc.measure(qr[n], cr[0])"
   ]
  },
  {
   "cell_type": "code",
   "execution_count": 178,
   "metadata": {
    "scrolled": true
   },
   "outputs": [
    {
     "data": {
      "image/png": "[encoded data removed]",
      "text/plain": [
       "<Figure size 659.792x204.68 with 1 Axes>"
      ]
     },
     "execution_count": 178,
     "metadata": {},
     "output_type": "execute_result"
    }
   ],
   "source": [
    "qc.draw(reverse_bits=True)"
   ]
  },
  {
   "cell_type": "code",
   "execution_count": 221,
   "metadata": {},
   "outputs": [
    {
     "name": "stdout",
     "output_type": "stream",
     "text": [
      "(0.77015115293407+0j)\n",
      "0.4207354924039482j\n",
      "(-0.22984884706593023+0j)\n",
      "0.4207354924039483j\n"
     ]
    }
   ],
   "source": [
    "result = execute(qc, sv_simulator).result()\n",
    "statevector = result.get_statevector(qc)\n",
    "# circuit_statevector = np.empty((4,1))\n",
    "# plot_state_city(statevector, title='State Vector')\n",
    "for i in range(len(circuit_statevector)):\n",
    "#     circuit_statevector[i] = statevector[i]\n",
    "    print(statevector[i])\n",
    "    "
   ]
  },
  {
   "cell_type": "code",
   "execution_count": 218,
   "metadata": {},
   "outputs": [
    {
     "name": "stdout",
     "output_type": "stream",
     "text": [
      "[[ 7.70151153e-01+0.j        ]\n",
      " [-2.57626187e-17+0.42073549j]]\n"
     ]
    }
   ],
   "source": [
    "# def u3 matrix\n",
    "def u_(theta, phi, lambda_):\n",
    "    u = np.array([[np.cos(theta/2), -np.exp((1j)*(lambda_))*np.sin(theta/2)], \n",
    "                  [np.exp((1j)*(phi))*np.sin(theta/2), np.exp((1j)*(phi+lambda_))*np.cos(theta/2)]])\n",
    "    return u\n",
    "\n",
    "# create Hamiltonian of H1 and H2\n",
    "h1 = u_(-2*params, -np.pi/2, np.pi/2)\n",
    "h2 = u_(0, 0, np.pi/2)\n",
    "\n",
    "# Total Hamiltonian\n",
    "H = (k/(k+1)*h1+1/(k+1)*h2)\n",
    "\n",
    "# initial state\n",
    "ini_stat = np.array([[1], [0]])\n",
    "\n",
    "# final state vector\n",
    "exact_statevector = np.dot(H, ini_stat)\n",
    "print(exact_statevector)"
   ]
  }
 ],
 "metadata": {
  "kernelspec": {
   "display_name": "Python 3",
   "language": "python",
   "name": "python3"
  },
  "language_info": {
   "codemirror_mode": {
    "name": "ipython",
    "version": 3
   },
   "file_extension": ".py",
   "mimetype": "text/x-python",
   "name": "python",
   "nbconvert_exporter": "python",
   "pygments_lexer": "ipython3",
   "version": "3.7.5"
  }
 },
 "nbformat": 4,
 "nbformat_minor": 2
}
