{
 "cells": [
  {
   "cell_type": "code",
   "execution_count": 1,
   "metadata": {},
   "outputs": [],
   "source": [
    "from qiskit import QuantumRegister, ClassicalRegister, QuantumCircuit, BasicAer, execute\n",
    "from qiskit.aqua.utils.circuit_factory import CircuitFactory\n",
    "from exp_a4 import A4Factory\n",
    "from exp_a23 import A23Factory\n",
    "from exp_a1 import A1Factory\n",
    "import numpy as np\n",
    "from qiskit.tools.visualization import circuit_drawer\n",
    "from scipy.linalg import expm\n",
    "%matplotlib inline\n",
    "from qiskit.quantum_info.operators import Operator\n",
    "from qiskit.aqua.circuits.gates import mct\n",
    "from qiskit import IBMQ\n",
    "from qiskit import BasicAer\n",
    "# import FTSDFactory"
   ]
  },
  {
   "cell_type": "code",
   "execution_count": 2,
   "metadata": {},
   "outputs": [],
   "source": [
    "# Need to optimize when the size of k is large (this function uses double loop.)\n",
    "# arxiv:1907.11679 eq.5\n",
    "# return: aj: list\n",
    "def get_aj_from_kj(k):\n",
    "    m = len(k)\n",
    "    ret = []\n",
    "    for j in range(m):\n",
    "        if k[j] == 0.:\n",
    "            ret.append(0)\n",
    "        else:\n",
    "            aj = 1.\n",
    "            for q in range(m):\n",
    "                if j == q: continue;\n",
    "                aj *= 1 - np.square(k[q] / k[j])\n",
    "            ret.append(1 / aj)\n",
    "    return ret;\n",
    "\n",
    "def fill_zeros(k_vec):\n",
    "    for i in range(100):\n",
    "        if len(k_vec) == 2**i:\n",
    "            return k_vec\n",
    "        elif len(k_vec) > 2**i:\n",
    "            continue\n",
    "        elif i==99:\n",
    "            exit(\"Something strange\")\n",
    "        else:\n",
    "            for j in range(len(k_vec), 2**i):\n",
    "                k_vec.append(0)\n",
    "            break\n",
    "    print(k_vec)\n",
    "    return k_vec"
   ]
  },
  {
   "cell_type": "code",
   "execution_count": 3,
   "metadata": {},
   "outputs": [],
   "source": [
    "n=2\n",
    "t=1\n",
    "m_list = []\n",
    "m = 10 #The order of accuracy\n",
    "m_list.append(m)\n",
    "\n",
    "#Library for k_vec (given in arxiv:1907.11679)\n",
    "kvec2 = [1, 2]\n",
    "kvec3 = [1, 2, 6]\n",
    "kvec4 = [1, 2, 3, 10]\n",
    "kvec5 = [1, 2, 3, 5, 17]\n",
    "kvec6 = [1, 2, 3, 4, 6, 21]\n",
    "kvec7 = [1, 2, 3, 4, 5, 9, 34]\n",
    "kvec8 = [1, 2, 3, 4, 5, 6, 12, 45]\n",
    "kvec9 = [1, 2, 3, 4, 5, 6, 8, 15, 58]\n",
    "kvec10 = [1, 2, 3, 4, 5, 6, 7, 10, 18, 72]\n",
    "kvec11 = [1, 2, 3, 4, 5, 6, 7, 8, 12, 22, 88]\n",
    "kvec12 = [1, 2, 3, 4, 5, 6, 7, 8, 10, 14, 27, 106]\n",
    "kvec13 = [1, 2, 3, 4, 5, 6, 7, 8, 9, 11, 16, 31, 121]\n",
    "kvec14 = [1, 2, 3, 4, 5, 6, 7, 8, 9, 10, 13, 19, 37, 147]\n",
    "kvec15 = [1, 2, 3, 4, 5, 6, 7, 8, 9, 10, 12, 15, 22, 42, 170]\n",
    "\n",
    "\n",
    "#     m = m_input\n",
    "k_vec = kvec10\n",
    "#for i in range(m):\n",
    "#   k_vec.append(1+i)\n",
    "#print(k_vec)\n",
    "n_sum = int(np.ceil(np.log2(len(k_vec))))\n",
    "\n",
    "# number of ancilla qubits for the unitary operations themselves\n",
    "n_ancilla = n-1\n",
    "\n",
    "# number of ancilla qubits for controlling the unitary operations\n",
    "n_a_con = 1\n",
    "\n",
    "# number of ancilla qubits for multi-controlled toffoli\n",
    "n_toff = n_sum-2\n",
    "\n",
    "# Hamiltonian setting\n",
    "matrix_index = [1, 1, 2]  # 0:a1, 1:a23, 2:a4\n",
    "coefficient = [np.pi/4, np.pi/4, np.pi/4]  # params(e.g. theta) of each matrix\n",
    "\n",
    "#k_vec = fill_zeros(k_vec)\n",
    "a_vector = get_aj_from_kj(k_vec)\n",
    "a_vector = np.array(a_vector)"
   ]
  },
  {
   "cell_type": "code",
   "execution_count": 4,
   "metadata": {},
   "outputs": [
    {
     "name": "stdout",
     "output_type": "stream",
     "text": [
      "[ 0.96669633+0.j          0.        -0.24731614j -0.06556725+0.j          0.        +0.00585933j]\n"
     ]
    }
   ],
   "source": [
    "#Calculating Matrix directly for first order Trotter Suzuki LCU\n",
    "M = len(coefficient)\n",
    "addstate = np.append([], [0]*((2**n)))\n",
    "\n",
    "for j in range(len(k_vec)):\n",
    "    initial_vector = np.append(1,[0]*((2**n)-1))\n",
    "    kj = k_vec[j]\n",
    "    for l in range(kj):\n",
    "        for i in range(len(coefficient)):\n",
    "            if matrix_index[i] == 0:\n",
    "                b_1 = coefficient[i]*t/kj/M          \n",
    "                matrixa1 = np.diag(np.array([b_1]*(2**n)))\n",
    "                expmat1 = expm(-1j*matrixa1*t)\n",
    "                nowstate = np.dot(expmat1, initial_vector)\n",
    "                initial_vector = nowstate\n",
    "            elif matrix_index[i]==1:\n",
    "                b_2 = coefficient[i]*t/kj/M\n",
    "                matrixa23 = np.diag(np.append(np.array([0, b_2]*((2**(n-1))-1)),0), -1) + np.diag(np.append(np.array([0, b_2]*((2**(n-1))-1)),0), 1)\n",
    "                expmat23 = expm(-1j*matrixa23*t)\n",
    "                nowstate = np.dot(expmat23, initial_vector)\n",
    "                initial_vector = nowstate\n",
    "            elif matrix_index[i]==2:\n",
    "                b_4 = coefficient[i]*t/kj/M\n",
    "                matrixa4 =np.diag(np.append(np.array([b_4, 0]*((2**(n-1))-1)),b_4), -1) + np.diag(np.append(np.array([b_4, 0]*((2**(n-1))-1)),b_4), 1)\n",
    "                expmat4 = expm(-1j*matrixa4*t)\n",
    "                nowstate = np.dot(expmat4, initial_vector)\n",
    "                initial_vector = nowstate\n",
    "            else:\n",
    "                exit(\"Wrong matrix index: \", i)   \n",
    "    addstate = addstate + a_vector[j]*initial_vector\n",
    "            \n",
    "#print(matrixa1)\n",
    "#print(matrixa23)\n",
    "#print(matrixa4)\n",
    "np.set_printoptions(threshold=100000, linewidth=1000)\n",
    "#print(expmat1)\n",
    "#print(expmat23)\n",
    "#print(expmat4)\n",
    "print(addstate)\n",
    "circuit_simulator1 = addstate"
   ]
  },
  {
   "cell_type": "code",
   "execution_count": 5,
   "metadata": {},
   "outputs": [
    {
     "name": "stdout",
     "output_type": "stream",
     "text": [
      "[ 0.87777408+0.j          0.        -0.41313257j -0.2385222 +0.j          0.        +0.04406033j]\n"
     ]
    },
    {
     "data": {
      "text/plain": [
       "1.000000000000007"
      ]
     },
     "execution_count": 5,
     "metadata": {},
     "output_type": "execute_result"
    }
   ],
   "source": [
    "#Calculating Matrix directly for second order Trotter Suzuki LCU (if you make DU1=False in the FTDS_Factory)\n",
    "M = len(coefficient)\n",
    "addstate = np.append([], [0]*((2**n)))\n",
    "\n",
    "for j in range(len(k_vec)):\n",
    "    initial_vector = np.append(1,[0]*((2**n)-1))\n",
    "    kj = k_vec[j]\n",
    "    for l in range(kj):\n",
    "        for i in range(len(matrix_index)):\n",
    "            if matrix_index[i]==0:\n",
    "                b_1 = coefficient[i]*t/kj/M          \n",
    "                matrixa1 = np.diag(np.array([b_1]*(2**n)))\n",
    "                expmat1 = expm(-1j*matrixa1*t)\n",
    "                nowstate = np.dot(expmat1, initial_vector)\n",
    "                initial_vector = nowstate\n",
    "            elif matrix_index[i]==1:\n",
    "                b_2 = coefficient[i]*t/kj/M\n",
    "                matrixa23 = np.diag(np.append(np.array([0, b_2]*((2**(n-1))-1)),0), -1) + np.diag(np.append(np.array([0, b_2]*((2**(n-1))-1)),0), 1)\n",
    "                expmat23 = expm(-1j*matrixa23*t)\n",
    "                nowstate = np.dot(expmat23, initial_vector)\n",
    "                initial_vector = nowstate\n",
    "            elif matrix_index[i]==2:\n",
    "                b_4 = coefficient[i]*t/kj/M\n",
    "                matrixa4 =np.diag(np.append(np.array([b_4, 0]*((2**(n-1))-1)),b_4), -1) + np.diag(np.append(np.array([b_4, 0]*((2**(n-1))-1)),b_4), 1)\n",
    "                expmat4 = expm(-1j*matrixa4*t)\n",
    "                nowstate = np.dot(expmat4, initial_vector)\n",
    "                initial_vector = nowstate\n",
    "            else:\n",
    "                exit(\"Wrong matrix index: \", i)\n",
    "        for i in reversed(range(len(matrix_index))):\n",
    "            if matrix_index[i]==0:\n",
    "                b_1 = coefficient[i]*t/kj/M          \n",
    "                matrixa1 = np.diag(np.array([b_1]*(2**n)))\n",
    "                expmat1 = expm(-1j*matrixa1*t)\n",
    "                nowstate = np.dot(expmat1, initial_vector)\n",
    "                initial_vector = nowstate\n",
    "            elif matrix_index[i]==1:\n",
    "                b_2 = coefficient[i]*t/kj/M\n",
    "                matrixa23 = np.diag(np.append(np.array([0, b_2]*((2**(n-1))-1)),0), -1) + np.diag(np.append(np.array([0, b_2]*((2**(n-1))-1)),0), 1)\n",
    "                expmat23 = expm(-1j*matrixa23*t)\n",
    "                nowstate = np.dot(expmat23, initial_vector)\n",
    "                initial_vector = nowstate\n",
    "            elif matrix_index[i]==2:\n",
    "                b_4 = coefficient[i]*t/kj/M\n",
    "                matrixa4 =np.diag(np.append(np.array([b_4, 0]*((2**(n-1))-1)),b_4), -1) + np.diag(np.append(np.array([b_4, 0]*((2**(n-1))-1)),b_4), 1)\n",
    "                expmat4 = expm(-1j*matrixa4*t)\n",
    "                nowstate = np.dot(expmat4, initial_vector)\n",
    "                initial_vector = nowstate\n",
    "            else:\n",
    "                exit(\"Wrong matrix index: \", i)\n",
    "    addstate = addstate + a_vector[j]*initial_vector\n",
    "    \n",
    "\n",
    "#print(matrixa1)\n",
    "#print(matrixa23)\n",
    "#print(matrixa4)\n",
    "np.set_printoptions(threshold=100000, linewidth=1000)\n",
    "#print(expmat1)\n",
    "#print(expmat23)\n",
    "#print(expmat4)\n",
    "print(addstate)\n",
    "circuit_simulator2 = addstate\n",
    "np.linalg.norm(circuit_simulator2, ord=2)"
   ]
  },
  {
   "cell_type": "code",
   "execution_count": 6,
   "metadata": {},
   "outputs": [
    {
     "name": "stdout",
     "output_type": "stream",
     "text": [
      "[ 0.76197612+0.j          0.        -0.44800943j -0.44800949+0.j          0.        +0.13404284j]\n"
     ]
    },
    {
     "data": {
      "text/plain": [
       "1.000000025231756"
      ]
     },
     "execution_count": 6,
     "metadata": {},
     "output_type": "execute_result"
    }
   ],
   "source": [
    "initial_vector = np.append(1, [0]*((2**n)-1))\n",
    "\n",
    "H_sum = np.zeros(shape=[2**n, 2**n], dtype='float32')\n",
    "for i in range(len(matrix_index)):\n",
    "    if matrix_index[i] == 0:\n",
    "        b_1 = coefficient[i]*t            \n",
    "        H_sum += np.diag(np.array([b_1]*(2**n)))\n",
    "    elif matrix_index[i]==1:\n",
    "        b_2 = coefficient[i]*t\n",
    "        H_sum += np.diag(np.append(np.array([0, b_2]*((2**(n-1))-1)),0), -1) + np.diag(np.append(np.array([0, b_2]*((2**(n-1))-1)),0), 1)\n",
    "    elif matrix_index[i]==2:\n",
    "        b_4 = coefficient[i]*t\n",
    "        H_sum += np.diag(np.append(np.array([b_4, 0]*((2**(n-1))-1)),b_4), -1) + np.diag(np.append(np.array([b_4, 0]*((2**(n-1))-1)),b_4), 1)\n",
    "    else:\n",
    "        exit(\"Wrong matrix index: \", i)\n",
    "#print(H_sum)\n",
    "exact_exp = expm(-1j * H_sum * t * 1.0)\n",
    "\n",
    "ret = np.dot(exact_exp, initial_vector)\n",
    "#ret /= np.linalg.norm(ret) the norm should be one\n",
    "print(ret)\n",
    "np.linalg.norm(ret, ord=2)"
   ]
  },
  {
   "cell_type": "code",
   "execution_count": 7,
   "metadata": {},
   "outputs": [
    {
     "name": "stdout",
     "output_type": "stream",
     "text": [
      "0.4948547694049421\n"
     ]
    }
   ],
   "source": [
    "Error = np.linalg.norm(circuit_simulator1-ret, ord=2)\n",
    "print(Error)"
   ]
  },
  {
   "cell_type": "code",
   "execution_count": 8,
   "metadata": {},
   "outputs": [
    {
     "name": "stdout",
     "output_type": "stream",
     "text": [
      "0.2580839785257157\n"
     ]
    }
   ],
   "source": [
    "Error = np.linalg.norm(circuit_simulator2-ret, ord=2)\n",
    "print(Error)"
   ]
  },
  {
   "cell_type": "code",
   "execution_count": 9,
   "metadata": {},
   "outputs": [
    {
     "data": {
      "text/plain": [
       "1.348576678891715"
      ]
     },
     "execution_count": 9,
     "metadata": {},
     "output_type": "execute_result"
    }
   ],
   "source": [
    "1.348576678891715"
   ]
  }
 ],
 "metadata": {
  "kernelspec": {
   "display_name": "Python 3",
   "language": "python",
   "name": "python3"
  },
  "language_info": {
   "codemirror_mode": {
    "name": "ipython",
    "version": 3
   },
   "file_extension": ".py",
   "mimetype": "text/x-python",
   "name": "python",
   "nbconvert_exporter": "python",
   "pygments_lexer": "ipython3",
   "version": "3.7.4"
  }
 },
 "nbformat": 4,
 "nbformat_minor": 2
}
