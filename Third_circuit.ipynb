{
 "cells": [
  {
   "cell_type": "code",
   "execution_count": 10,
   "metadata": {},
   "outputs": [],
   "source": [
    "from qiskit import QuantumRegister, ClassicalRegister, QuantumCircuit, BasicAer, execute\n",
    "from qiskit.aqua.utils.circuit_factory import CircuitFactory\n",
    "from exp_a4 import A4Factory\n",
    "from exp_a23 import A23Factory\n",
    "from exp_a1 import A1Factory\n",
    "import numpy as np\n",
    "from qiskit.tools.visualization import circuit_drawer\n",
    "from scipy.linalg import expm\n",
    "%matplotlib inline\n",
    "from qiskit.quantum_info.operators import Operator\n",
    "from qiskit.aqua.circuits.gates import mct\n",
    "# import FTSDFactory"
   ]
  },
  {
   "cell_type": "code",
   "execution_count": 205,
   "metadata": {},
   "outputs": [],
   "source": [
    "# number of qubits n, where size of the matrix is 2**n\n",
    "n = 2\n",
    "t = 1\n",
    "# b entry of the matrices\n",
    "b_4 = 1/3\n",
    "b_2 = 1/3\n",
    "# k\n",
    "k_vec = [2, 3]\n",
    "# Number of elements in the sum (log_2 k)\n",
    "#n_sum = 2**(np.ceil(np.log2(len(k_vec)))) + 1\n",
    "n_sum = int(np.ceil(np.log2(len(k_vec))))\n",
    "#n_sum = 3\n",
    "# number of ancilla qubits for the unitary operations themselves\n",
    "n_ancilla = n-1\n",
    "# number of ancilla qubits for controlling the unitary operations\n",
    "n_a_con = 1\n",
    "# number of ancilla qubits for multi-controlled toffoli\n",
    "n_toff = n_sum-2"
   ]
  },
  {
   "cell_type": "code",
   "execution_count": 206,
   "metadata": {},
   "outputs": [],
   "source": [
    "class FTSDFactory(CircuitFactory):\n",
    "    \"\"\"\n",
    "    When no time is provided the simulation runs for t=1. The target qubit is the less significant one.\n",
    "    \"\"\"\n",
    "    def __init__(self, num_target_qubits=1):\n",
    "        super().__init__(num_target_qubits)\n",
    "\n",
    "    def required_ancillas(self):\n",
    "        return 0\n",
    "\n",
    "    def required_ancillas_controlled(self):\n",
    "        return 0\n",
    "    \n",
    "    def build(self, qc, q, q_ancillas=None, params=1):\n",
    "        pass\n",
    "        # qc.u3(params, -np.pi/2, np.pi/2, q[0])\n",
    "\n",
    "    def build_controlled(self, qc, q, q_control, q_ancillas=None, t=1, kj=1, coefficient = [], matrix_index = []):\n",
    "        if len(coefficient) != len(matrix_index):\n",
    "            exit(\"Error.\")\n",
    "        a1 = A1Factory(n)\n",
    "        a23 = A23Factory(n)\n",
    "        a4 = A4Factory(n)\n",
    "        \n",
    "        for j in range(kj):\n",
    "          for i in range(len(matrix_index)):\n",
    "              if matrix_index[i] == 0:\n",
    "                  a1.build_controlled(qc, qr, q_control, q_ancillas, coefficient[i]*t/kj/2)\n",
    "              elif matrix_index[i]==1:\n",
    "                  a23.build_controlled(qc, qr, q_control, q_ancillas, coefficient[i]*t/kj/2)\n",
    "              elif matrix_index[i]==2:\n",
    "                  a4.build_controlled(qc, qr, q_control, q_ancillas, coefficient[i]*t/kj/2)\n",
    "              else:\n",
    "                  exit(\"Wrong matrix index: \", i)\n",
    "\n",
    "    def build_inverse(self, qc, q, q_ancillas=None, params=1):\n",
    "        pass\n",
    "        # self.build(qc, q, q_ancillas, -params)\n",
    "\n",
    "    def build_controlled_inverse(self, qc, q, q_control, q_ancillas=None, params=1):\n",
    "        self.build_controlled(qc, q, q_control, q_ancillas, -params)\n"
   ]
  },
  {
   "cell_type": "code",
   "execution_count": 207,
   "metadata": {},
   "outputs": [],
   "source": [
    "def uni_matrix_factory(last_column):\n",
    "    size = np.size(last_column)\n",
    "    col = last_column.reshape((size, 1))\n",
    "    a = np.zeros((size, size))\n",
    "\n",
    "    a[:, [-1]] = col\n",
    "    for i in range(size-1):\n",
    "        a[:i+1, [i]] = col[:i+1]\n",
    "        a[i+1, i] = - sum(col[:i+1]**2) / col[i+1]\n",
    "\n",
    "    for i in range(size):\n",
    "        a[:, i] = a[:, i] / np.sqrt(sum(a[:, i]**2))\n",
    "\n",
    "    a = np.fliplr(a)\n",
    "    a[np.isnan(a)] = 1\n",
    "    return a"
   ]
  },
  {
   "cell_type": "code",
   "execution_count": 208,
   "metadata": {},
   "outputs": [
    {
     "data": {
      "text/plain": [
       "array([[ 0.18257419,  0.19518001,  0.35856858,  0.89442719],\n",
       "       [ 0.36514837,  0.39036003,  0.71713717, -0.4472136 ],\n",
       "       [ 0.54772256,  0.58554004, -0.5976143 ,  0.        ],\n",
       "       [ 0.73029674, -0.68313005,  0.        ,  0.        ]])"
      ]
     },
     "execution_count": 208,
     "metadata": {},
     "output_type": "execute_result"
    }
   ],
   "source": [
    "uni_matrix_factory(np.array([1,2,3,4]))"
   ]
  },
  {
   "cell_type": "code",
   "execution_count": 209,
   "metadata": {},
   "outputs": [],
   "source": [
    "def check_power_of_a(n, a):\n",
    "    if n == 1:\n",
    "        return True\n",
    "    elif n % a == 0:\n",
    "        n = n / a\n",
    "        check_power_of_a(n, a)\n",
    "    else:\n",
    "        return False"
   ]
  },
  {
   "cell_type": "code",
   "execution_count": 210,
   "metadata": {},
   "outputs": [],
   "source": [
    "def dec2bin(decimal_number):\n",
    "    binlist = []\n",
    "    for i in range(len(bin(decimal_number))-2):\n",
    "        binlist.append(int(bin(decimal_number)[2+i]))\n",
    "    return binlist\n",
    "\n",
    "def permutation_control(qc, q_control_list, i):\n",
    "    binlist = dec2bin(i)\n",
    "    for j in range(len(binlist)):\n",
    "        if binlist[j]==1:\n",
    "            qc.x(q_control_list[len(binlist)-j-1])"
   ]
  },
  {
   "cell_type": "code",
   "execution_count": 211,
   "metadata": {},
   "outputs": [],
   "source": [
    "def put_mct():\n",
    "    if n_toff > 0:\n",
    "        qc.mct(qr_sum, qrac[0], qrt)\n",
    "    elif n_sum == 2:\n",
    "        qc.ccx(qr_sum[0], qr_sum[1], qrac)"
   ]
  },
  {
   "cell_type": "code",
   "execution_count": 212,
   "metadata": {},
   "outputs": [],
   "source": [
    "# Need to optimize when the size of k is large (this function uses double loop.)\n",
    "# arxiv:1907.11679 eq.5\n",
    "# return: aj: list\n",
    "def get_aj_from_kj(k):\n",
    "    m = len(k)\n",
    "    ret = []\n",
    "    for j in range(m):\n",
    "        if k[j] == 0.:\n",
    "            ret.append(0)\n",
    "        else:\n",
    "            aj = 1.\n",
    "            for q in range(m):\n",
    "                if j == q: continue;\n",
    "                aj *= 1 - np.square(k[q] / k[j])\n",
    "            ret.append(1 / aj)\n",
    "    return ret;\n",
    "\n",
    "def fill_zeros(k_vec):\n",
    "    for i in range(100):\n",
    "        if len(k_vec) == 2**i:\n",
    "            return k_vec\n",
    "        elif len(k_vec) > 2**i:\n",
    "            continue\n",
    "        else:\n",
    "            for j in range(len(k_vec), 2**i):\n",
    "                k_vec.append(0)\n",
    "            break\n",
    "    return k_vec\n",
    "            \n",
    "            "
   ]
  },
  {
   "cell_type": "code",
   "execution_count": 215,
   "metadata": {},
   "outputs": [
    {
     "data": {
      "text/plain": [
       "<qiskit.circuit.instructionset.InstructionSet at 0x1246b7790>"
      ]
     },
     "execution_count": 215,
     "metadata": {},
     "output_type": "execute_result"
    }
   ],
   "source": [
    "# TODO: for sums with more than 2 elements need to change qr[n] by the right index\n",
    "#quantum register for the matrix\n",
    "qr = QuantumRegister(n)\n",
    "qr_sum = QuantumRegister(n_sum)\n",
    "#ancilla qubits\n",
    "qra = QuantumRegister(n_ancilla)\n",
    "qrac = QuantumRegister(n_a_con)\n",
    "cr = ClassicalRegister(n+n_sum+n_ancilla+n_a_con)\n",
    "if n_toff > 0:\n",
    "    qrt = QuantumRegister(n_toff)\n",
    "    qc = QuantumCircuit(qr, qr_sum, qra, qrac, qrt, cr)\n",
    "else:\n",
    "    qc = QuantumCircuit(qr, qr_sum, qra, qrac, cr)\n",
    "\n",
    "#create unitary operations given its last column {a_j}\n",
    "\n",
    "#k_vec = fill_zeros(k_vec)\n",
    "a_vector = get_aj_from_kj(k_vec)\n",
    "a_vector = np.array(a_vector)\n",
    "#a_vector =  np.arange(1, 2**n_sum+1)# a_vector has to be a power of 2\n",
    "mat_A = uni_matrix_factory(a_vector)\n",
    "op_A = Operator(mat_A)\n",
    "op_B = Operator(mat_A.transpose())\n",
    "\n",
    "# encode coefficient information through A matrix\n",
    "qc.append(op_A, qr_sum)\n",
    "qc.barrier()\n",
    "\n",
    "for i_kj in range(len(k_vec)):\n",
    "#for i in range(2**n_sum):\n",
    "    permutation_control(qc, qr_sum, i_kj)\n",
    "    put_mct()\n",
    "    # TODO: substitute by suitable exp(iH_jt)\n",
    "#     A4Factory(n).build_controlled(qc, qr, qrac[0], qra, b_4*t)\n",
    "    FTSDFactory(n).build_controlled(qc, qr, qrac[0], qra, t=1, kj=k_vec[i_kj], coefficient=[1.5], matrix_index=[0])\n",
    "    put_mct()\n",
    "    permutation_control(qc, qr_sum, i_kj)\n",
    "    qc.barrier()\n",
    "\n",
    "# invert A matrix\n",
    "qc.append(op_B, qr_sum)\n",
    "\n",
    "qc.barrier()\n",
    "# measurement of qr and qr_sum\n",
    "qc.measure(qr, cr[0:n])\n",
    "qc.measure(qr_sum, cr[n:n+n_sum])"
   ]
  },
  {
   "cell_type": "code",
   "execution_count": 216,
   "metadata": {},
   "outputs": [
    {
     "name": "stdout",
     "output_type": "stream",
     "text": [
      "[[-0.40613847 -0.91381155]\n",
      " [ 0.91381155 -0.40613847]]\n",
      "[-0.8  1.8]\n",
      "QuantumRegister(1, 'q170')\n",
      "Operator([[-0.40613847+0.j -0.91381155+0.j]\n",
      " [ 0.91381155+0.j -0.40613847+0.j]], input_dims=(2,), output_dims=(2,))\n"
     ]
    }
   ],
   "source": [
    "print(mat_A)\n",
    "print(a_vector)\n",
    "print(qr_sum)\n",
    "print(op_A)"
   ]
  },
  {
   "cell_type": "code",
   "execution_count": 217,
   "metadata": {},
   "outputs": [
    {
     "data": {
      "image/png": "[encoded data removed]",
      "text/plain": [
       "<Figure size 1152.23x385.28 with 1 Axes>"
      ]
     },
     "execution_count": 217,
     "metadata": {},
     "output_type": "execute_result"
    }
   ],
   "source": [
    "qc.draw(output='mpl', fold=100)"
   ]
  },
  {
   "cell_type": "code",
   "execution_count": 219,
   "metadata": {},
   "outputs": [],
   "source": [
    "# Optional: send the simulation to ibm's simulator\n",
    "from qiskit import IBMQ\n",
    "from qiskit import BasicAer\n",
    "#IBMQ.load_account()\n",
    "#provider = IBMQ.get_provider(hub='ibm-q-hub-ntu')\n",
    "#backend = provider.get_backend('ibmq_qasm_simulator')\n",
    "backend = BasicAer.get_backend('qasm_simulator')"
   ]
  },
  {
   "cell_type": "code",
   "execution_count": 220,
   "metadata": {},
   "outputs": [
    {
     "ename": "QiskitError",
     "evalue": "'No statevector for experiment \"                       ░                            ░                         »\\nq169_0: |0>────────────░────────────────────────────░─────────────────────────»\\n                       ░                            ░                         »\\nq169_1: |0>────────────░────────────────────────────░─────────────────────────»\\n           ┌─────────┐ ░                            ░    ┌───┐       ┌───┐    »\\nq170_0: |0>┤ Unitary ├─░────────────────────────────░────┤ X ├───────┤ X ├────»\\n           └─────────┘ ░                            ░    └───┘       └───┘    »\\nq171_0: |0>────────────░────────────────────────────░─────────────────────────»\\n                       ░ ┌───────────┐┌───────────┐ ░ ┌──────────┐┌──────────┐»\\nq172_0: |0>────────────░─┤ U1(0.375) ├┤ U1(0.375) ├─░─┤ U1(0.25) ├┤ U1(0.25) ├»\\n                       ░ └───────────┘└───────────┘ ░ └──────────┘└──────────┘»\\n  c36_0: 0 ═══════════════════════════════════════════════════════════════════»\\n                                                                              »\\n  c36_1: 0 ═══════════════════════════════════════════════════════════════════»\\n                                                                              »\\n  c36_2: 0 ═══════════════════════════════════════════════════════════════════»\\n                                                                              »\\n  c36_3: 0 ═══════════════════════════════════════════════════════════════════»\\n                                                                              »\\n  c36_4: 0 ═══════════════════════════════════════════════════════════════════»\\n                                                                              »\\n«                     ░             ░ ┌─┐      \\n«q169_0: ─────────────░─────────────░─┤M├──────\\n«                     ░             ░ └╥┘┌─┐   \\n«q169_1: ─────────────░─────────────░──╫─┤M├───\\n«                     ░ ┌─────────┐ ░  ║ └╥┘┌─┐\\n«q170_0: ─────────────░─┤ Unitary ├─░──╫──╫─┤M├\\n«                     ░ └─────────┘ ░  ║  ║ └╥┘\\n«q171_0: ─────────────░─────────────░──╫──╫──╫─\\n«        ┌──────────┐ ░             ░  ║  ║  ║ \\n«q172_0: ┤ U1(0.25) ├─░─────────────░──╫──╫──╫─\\n«        └──────────┘ ░             ░  ║  ║  ║ \\n« c36_0: ══════════════════════════════╩══╬══╬═\\n«                                         ║  ║ \\n« c36_1: ═════════════════════════════════╩══╬═\\n«                                            ║ \\n« c36_2: ════════════════════════════════════╩═\\n«                                              \\n« c36_3: ══════════════════════════════════════\\n«                                              \\n« c36_4: ══════════════════════════════════════\\n«                                              \"'",
     "output_type": "error",
     "traceback": [
      "\u001b[0;31m---------------------------------------------------------------------------\u001b[0m",
      "\u001b[0;31mKeyError\u001b[0m                                  Traceback (most recent call last)",
      "\u001b[0;32m~/atlas/QuantumComputing/qiskit/workspace/env37/lib/python3.7/site-packages/qiskit/result/result.py\u001b[0m in \u001b[0;36mget_statevector\u001b[0;34m(self, experiment, decimals)\u001b[0m\n\u001b[1;32m    201\u001b[0m         \u001b[0;32mtry\u001b[0m\u001b[0;34m:\u001b[0m\u001b[0;34m\u001b[0m\u001b[0;34m\u001b[0m\u001b[0m\n\u001b[0;32m--> 202\u001b[0;31m             return postprocess.format_statevector(self.data(experiment)['statevector'],\n\u001b[0m\u001b[1;32m    203\u001b[0m                                                   decimals=decimals)\n",
      "\u001b[0;31mKeyError\u001b[0m: 'statevector'",
      "\nDuring handling of the above exception, another exception occurred:\n",
      "\u001b[0;31mQiskitError\u001b[0m                               Traceback (most recent call last)",
      "\u001b[0;32m<ipython-input-220-a0d6ee90a01d>\u001b[0m in \u001b[0;36m<module>\u001b[0;34m\u001b[0m\n\u001b[1;32m      6\u001b[0m \u001b[0mresult\u001b[0m \u001b[0;34m=\u001b[0m \u001b[0mjob\u001b[0m\u001b[0;34m.\u001b[0m\u001b[0mresult\u001b[0m\u001b[0;34m(\u001b[0m\u001b[0;34m)\u001b[0m\u001b[0;34m\u001b[0m\u001b[0;34m\u001b[0m\u001b[0m\n\u001b[1;32m      7\u001b[0m \u001b[0;31m# Remember its an...a0qn..q0, where the a's are the ancilla\u001b[0m\u001b[0;34m\u001b[0m\u001b[0;34m\u001b[0m\u001b[0;34m\u001b[0m\u001b[0m\n\u001b[0;32m----> 8\u001b[0;31m \u001b[0msvect\u001b[0m \u001b[0;34m=\u001b[0m \u001b[0mresult\u001b[0m\u001b[0;34m.\u001b[0m\u001b[0mget_statevector\u001b[0m\u001b[0;34m(\u001b[0m\u001b[0mqc\u001b[0m\u001b[0;34m)\u001b[0m\u001b[0;34m\u001b[0m\u001b[0;34m\u001b[0m\u001b[0m\n\u001b[0m\u001b[1;32m      9\u001b[0m \u001b[0;34m\u001b[0m\u001b[0m\n\u001b[1;32m     10\u001b[0m \u001b[0;31m# total number of qubits in the circuit\u001b[0m\u001b[0;34m\u001b[0m\u001b[0;34m\u001b[0m\u001b[0;34m\u001b[0m\u001b[0m\n",
      "\u001b[0;32m~/atlas/QuantumComputing/qiskit/workspace/env37/lib/python3.7/site-packages/qiskit/result/result.py\u001b[0m in \u001b[0;36mget_statevector\u001b[0;34m(self, experiment, decimals)\u001b[0m\n\u001b[1;32m    203\u001b[0m                                                   decimals=decimals)\n\u001b[1;32m    204\u001b[0m         \u001b[0;32mexcept\u001b[0m \u001b[0mKeyError\u001b[0m\u001b[0;34m:\u001b[0m\u001b[0;34m\u001b[0m\u001b[0;34m\u001b[0m\u001b[0m\n\u001b[0;32m--> 205\u001b[0;31m             \u001b[0;32mraise\u001b[0m \u001b[0mQiskitError\u001b[0m\u001b[0;34m(\u001b[0m\u001b[0;34m'No statevector for experiment \"{0}\"'\u001b[0m\u001b[0;34m.\u001b[0m\u001b[0mformat\u001b[0m\u001b[0;34m(\u001b[0m\u001b[0mexperiment\u001b[0m\u001b[0;34m)\u001b[0m\u001b[0;34m)\u001b[0m\u001b[0;34m\u001b[0m\u001b[0;34m\u001b[0m\u001b[0m\n\u001b[0m\u001b[1;32m    206\u001b[0m \u001b[0;34m\u001b[0m\u001b[0m\n\u001b[1;32m    207\u001b[0m     \u001b[0;32mdef\u001b[0m \u001b[0mget_unitary\u001b[0m\u001b[0;34m(\u001b[0m\u001b[0mself\u001b[0m\u001b[0;34m,\u001b[0m \u001b[0mexperiment\u001b[0m\u001b[0;34m=\u001b[0m\u001b[0;32mNone\u001b[0m\u001b[0;34m,\u001b[0m \u001b[0mdecimals\u001b[0m\u001b[0;34m=\u001b[0m\u001b[0;32mNone\u001b[0m\u001b[0;34m)\u001b[0m\u001b[0;34m:\u001b[0m\u001b[0;34m\u001b[0m\u001b[0;34m\u001b[0m\u001b[0m\n",
      "\u001b[0;31mQiskitError\u001b[0m: 'No statevector for experiment \"                       ░                            ░                         »\\nq169_0: |0>────────────░────────────────────────────░─────────────────────────»\\n                       ░                            ░                         »\\nq169_1: |0>────────────░────────────────────────────░─────────────────────────»\\n           ┌─────────┐ ░                            ░    ┌───┐       ┌───┐    »\\nq170_0: |0>┤ Unitary ├─░────────────────────────────░────┤ X ├───────┤ X ├────»\\n           └─────────┘ ░                            ░    └───┘       └───┘    »\\nq171_0: |0>────────────░────────────────────────────░─────────────────────────»\\n                       ░ ┌───────────┐┌───────────┐ ░ ┌──────────┐┌──────────┐»\\nq172_0: |0>────────────░─┤ U1(0.375) ├┤ U1(0.375) ├─░─┤ U1(0.25) ├┤ U1(0.25) ├»\\n                       ░ └───────────┘└───────────┘ ░ └──────────┘└──────────┘»\\n  c36_0: 0 ═══════════════════════════════════════════════════════════════════»\\n                                                                              »\\n  c36_1: 0 ═══════════════════════════════════════════════════════════════════»\\n                                                                              »\\n  c36_2: 0 ═══════════════════════════════════════════════════════════════════»\\n                                                                              »\\n  c36_3: 0 ═══════════════════════════════════════════════════════════════════»\\n                                                                              »\\n  c36_4: 0 ═══════════════════════════════════════════════════════════════════»\\n                                                                              »\\n«                     ░             ░ ┌─┐      \\n«q169_0: ─────────────░─────────────░─┤M├──────\\n«                     ░             ░ └╥┘┌─┐   \\n«q169_1: ─────────────░─────────────░──╫─┤M├───\\n«                     ░ ┌─────────┐ ░  ║ └╥┘┌─┐\\n«q170_0: ─────────────░─┤ Unitary ├─░──╫──╫─┤M├\\n«                     ░ └─────────┘ ░  ║  ║ └╥┘\\n«q171_0: ─────────────░─────────────░──╫──╫──╫─\\n«        ┌──────────┐ ░             ░  ║  ║  ║ \\n«q172_0: ┤ U1(0.25) ├─░─────────────░──╫──╫──╫─\\n«        └──────────┘ ░             ░  ║  ║  ║ \\n« c36_0: ══════════════════════════════╩══╬══╬═\\n«                                         ║  ║ \\n« c36_1: ═════════════════════════════════╩══╬═\\n«                                            ║ \\n« c36_2: ════════════════════════════════════╩═\\n«                                              \\n« c36_3: ══════════════════════════════════════\\n«                                              \\n« c36_4: ══════════════════════════════════════\\n«                                              \"'"
     ]
    }
   ],
   "source": [
    "# Obtain vector from the circuit\n",
    "# backend = BasicAer.get_backend('statevector_simulator')\n",
    "# Create a Quantum Program for execution \n",
    "job = execute(qc, backend)\n",
    "# and store the result\n",
    "result = job.result()\n",
    "# Remember its an...a0qn..q0, where the a's are the ancilla\n",
    "svect = result.get_statevector(qc)\n",
    "\n",
    "# total number of qubits in the circuit\n",
    "lastq = n+n_sum+n_ancilla+n_a_con\n",
    "\n",
    "formatstr = \"{0:0\"+str(lastq)+\"b}\"\n",
    "# Final vector (i.e. approximate solution of e^iHt |x>)\n",
    "approx_sol = [0]*(2**n)\n",
    "\n",
    "totalnorm= 0\n",
    "for i in range(0, len(svect)):\n",
    "    # Only consider the entries where the sum qubits are 0 (i.e. successful circuit)\n",
    "    if formatstr.format(i)[0:n_ancilla+n_sum] == '0'*(n_ancilla+n_sum):\n",
    "                totalnorm += np.real(svect[i]*np.conjugate(svect[i]))\n",
    "                current_index = int(formatstr.format(i)[lastq-n:lastq][::-1], 2)\n",
    "                approx_sol[current_index] += svect[i]\n",
    "                \n",
    "approx_sol = approx_sol/np.sqrt(totalnorm)"
   ]
  },
  {
   "cell_type": "code",
   "execution_count": 225,
   "metadata": {},
   "outputs": [
    {
     "ename": "QiskitError",
     "evalue": "'No statevector for experiment \"                       ░                            ░                         »\\nq169_0: |0>────────────░────────────────────────────░─────────────────────────»\\n                       ░                            ░                         »\\nq169_1: |0>────────────░────────────────────────────░─────────────────────────»\\n           ┌─────────┐ ░                            ░    ┌───┐       ┌───┐    »\\nq170_0: |0>┤ Unitary ├─░────────────────────────────░────┤ X ├───────┤ X ├────»\\n           └─────────┘ ░                            ░    └───┘       └───┘    »\\nq171_0: |0>────────────░────────────────────────────░─────────────────────────»\\n                       ░ ┌───────────┐┌───────────┐ ░ ┌──────────┐┌──────────┐»\\nq172_0: |0>────────────░─┤ U1(0.375) ├┤ U1(0.375) ├─░─┤ U1(0.25) ├┤ U1(0.25) ├»\\n                       ░ └───────────┘└───────────┘ ░ └──────────┘└──────────┘»\\n  c36_0: 0 ═══════════════════════════════════════════════════════════════════»\\n                                                                              »\\n  c36_1: 0 ═══════════════════════════════════════════════════════════════════»\\n                                                                              »\\n  c36_2: 0 ═══════════════════════════════════════════════════════════════════»\\n                                                                              »\\n  c36_3: 0 ═══════════════════════════════════════════════════════════════════»\\n                                                                              »\\n  c36_4: 0 ═══════════════════════════════════════════════════════════════════»\\n                                                                              »\\n«                     ░             ░ ┌─┐      \\n«q169_0: ─────────────░─────────────░─┤M├──────\\n«                     ░             ░ └╥┘┌─┐   \\n«q169_1: ─────────────░─────────────░──╫─┤M├───\\n«                     ░ ┌─────────┐ ░  ║ └╥┘┌─┐\\n«q170_0: ─────────────░─┤ Unitary ├─░──╫──╫─┤M├\\n«                     ░ └─────────┘ ░  ║  ║ └╥┘\\n«q171_0: ─────────────░─────────────░──╫──╫──╫─\\n«        ┌──────────┐ ░             ░  ║  ║  ║ \\n«q172_0: ┤ U1(0.25) ├─░─────────────░──╫──╫──╫─\\n«        └──────────┘ ░             ░  ║  ║  ║ \\n« c36_0: ══════════════════════════════╩══╬══╬═\\n«                                         ║  ║ \\n« c36_1: ═════════════════════════════════╩══╬═\\n«                                            ║ \\n« c36_2: ════════════════════════════════════╩═\\n«                                              \\n« c36_3: ══════════════════════════════════════\\n«                                              \\n« c36_4: ══════════════════════════════════════\\n«                                              \"'",
     "output_type": "error",
     "traceback": [
      "\u001b[0;31m---------------------------------------------------------------------------\u001b[0m",
      "\u001b[0;31mKeyError\u001b[0m                                  Traceback (most recent call last)",
      "\u001b[0;32m~/atlas/QuantumComputing/qiskit/workspace/env37/lib/python3.7/site-packages/qiskit/result/result.py\u001b[0m in \u001b[0;36mget_statevector\u001b[0;34m(self, experiment, decimals)\u001b[0m\n\u001b[1;32m    201\u001b[0m         \u001b[0;32mtry\u001b[0m\u001b[0;34m:\u001b[0m\u001b[0;34m\u001b[0m\u001b[0;34m\u001b[0m\u001b[0m\n\u001b[0;32m--> 202\u001b[0;31m             return postprocess.format_statevector(self.data(experiment)['statevector'],\n\u001b[0m\u001b[1;32m    203\u001b[0m                                                   decimals=decimals)\n",
      "\u001b[0;31mKeyError\u001b[0m: 'statevector'",
      "\nDuring handling of the above exception, another exception occurred:\n",
      "\u001b[0;31mQiskitError\u001b[0m                               Traceback (most recent call last)",
      "\u001b[0;32m<ipython-input-225-a697dfb285c1>\u001b[0m in \u001b[0;36m<module>\u001b[0;34m\u001b[0m\n\u001b[0;32m----> 1\u001b[0;31m \u001b[0mresult\u001b[0m\u001b[0;34m.\u001b[0m\u001b[0mget_statevector\u001b[0m\u001b[0;34m(\u001b[0m\u001b[0mqc\u001b[0m\u001b[0;34m)\u001b[0m\u001b[0;34m\u001b[0m\u001b[0;34m\u001b[0m\u001b[0m\n\u001b[0m",
      "\u001b[0;32m~/atlas/QuantumComputing/qiskit/workspace/env37/lib/python3.7/site-packages/qiskit/result/result.py\u001b[0m in \u001b[0;36mget_statevector\u001b[0;34m(self, experiment, decimals)\u001b[0m\n\u001b[1;32m    203\u001b[0m                                                   decimals=decimals)\n\u001b[1;32m    204\u001b[0m         \u001b[0;32mexcept\u001b[0m \u001b[0mKeyError\u001b[0m\u001b[0;34m:\u001b[0m\u001b[0;34m\u001b[0m\u001b[0;34m\u001b[0m\u001b[0m\n\u001b[0;32m--> 205\u001b[0;31m             \u001b[0;32mraise\u001b[0m \u001b[0mQiskitError\u001b[0m\u001b[0;34m(\u001b[0m\u001b[0;34m'No statevector for experiment \"{0}\"'\u001b[0m\u001b[0;34m.\u001b[0m\u001b[0mformat\u001b[0m\u001b[0;34m(\u001b[0m\u001b[0mexperiment\u001b[0m\u001b[0;34m)\u001b[0m\u001b[0;34m)\u001b[0m\u001b[0;34m\u001b[0m\u001b[0;34m\u001b[0m\u001b[0m\n\u001b[0m\u001b[1;32m    206\u001b[0m \u001b[0;34m\u001b[0m\u001b[0m\n\u001b[1;32m    207\u001b[0m     \u001b[0;32mdef\u001b[0m \u001b[0mget_unitary\u001b[0m\u001b[0;34m(\u001b[0m\u001b[0mself\u001b[0m\u001b[0;34m,\u001b[0m \u001b[0mexperiment\u001b[0m\u001b[0;34m=\u001b[0m\u001b[0;32mNone\u001b[0m\u001b[0;34m,\u001b[0m \u001b[0mdecimals\u001b[0m\u001b[0;34m=\u001b[0m\u001b[0;32mNone\u001b[0m\u001b[0;34m)\u001b[0m\u001b[0;34m:\u001b[0m\u001b[0;34m\u001b[0m\u001b[0;34m\u001b[0m\u001b[0m\n",
      "\u001b[0;31mQiskitError\u001b[0m: 'No statevector for experiment \"                       ░                            ░                         »\\nq169_0: |0>────────────░────────────────────────────░─────────────────────────»\\n                       ░                            ░                         »\\nq169_1: |0>────────────░────────────────────────────░─────────────────────────»\\n           ┌─────────┐ ░                            ░    ┌───┐       ┌───┐    »\\nq170_0: |0>┤ Unitary ├─░────────────────────────────░────┤ X ├───────┤ X ├────»\\n           └─────────┘ ░                            ░    └───┘       └───┘    »\\nq171_0: |0>────────────░────────────────────────────░─────────────────────────»\\n                       ░ ┌───────────┐┌───────────┐ ░ ┌──────────┐┌──────────┐»\\nq172_0: |0>────────────░─┤ U1(0.375) ├┤ U1(0.375) ├─░─┤ U1(0.25) ├┤ U1(0.25) ├»\\n                       ░ └───────────┘└───────────┘ ░ └──────────┘└──────────┘»\\n  c36_0: 0 ═══════════════════════════════════════════════════════════════════»\\n                                                                              »\\n  c36_1: 0 ═══════════════════════════════════════════════════════════════════»\\n                                                                              »\\n  c36_2: 0 ═══════════════════════════════════════════════════════════════════»\\n                                                                              »\\n  c36_3: 0 ═══════════════════════════════════════════════════════════════════»\\n                                                                              »\\n  c36_4: 0 ═══════════════════════════════════════════════════════════════════»\\n                                                                              »\\n«                     ░             ░ ┌─┐      \\n«q169_0: ─────────────░─────────────░─┤M├──────\\n«                     ░             ░ └╥┘┌─┐   \\n«q169_1: ─────────────░─────────────░──╫─┤M├───\\n«                     ░ ┌─────────┐ ░  ║ └╥┘┌─┐\\n«q170_0: ─────────────░─┤ Unitary ├─░──╫──╫─┤M├\\n«                     ░ └─────────┘ ░  ║  ║ └╥┘\\n«q171_0: ─────────────░─────────────░──╫──╫──╫─\\n«        ┌──────────┐ ░             ░  ║  ║  ║ \\n«q172_0: ┤ U1(0.25) ├─░─────────────░──╫──╫──╫─\\n«        └──────────┘ ░             ░  ║  ║  ║ \\n« c36_0: ══════════════════════════════╩══╬══╬═\\n«                                         ║  ║ \\n« c36_1: ═════════════════════════════════╩══╬═\\n«                                            ║ \\n« c36_2: ════════════════════════════════════╩═\\n«                                              \\n« c36_3: ══════════════════════════════════════\\n«                                              \\n« c36_4: ══════════════════════════════════════\\n«                                              \"'"
     ]
    }
   ],
   "source": [
    "result.get_statevector(qc)"
   ]
  },
  {
   "cell_type": "code",
   "execution_count": null,
   "metadata": {
    "collapsed": true
   },
   "outputs": [],
   "source": [
    "# analytical case\n",
    "H23 = np.diag(np.append(np.array([0, b_2]*((2**(n-1))-1)),0), -1) + np.diag(np.append(np.array([0, b_2]*((2**(n-1))-1)),0), 1)\n",
    "H4 = np.diag(np.append(np.array([b_4, 0]*((2**(n-1))-1)),b_4), -1) + np.diag(np.append(np.array([b_4, 0]*((2**(n-1))-1)),b_4), 1)\n",
    "\n",
    "exact_exp = expm(1j*(H23+H4)*t)\n",
    "\n",
    "test = np.dot(exact_exp, np.append(1,[0]*((2**n)-1)))\n",
    "print(test/np.linalg.norm(test))\n",
    "print(approx_sol)"
   ]
  },
  {
   "cell_type": "code",
   "execution_count": null,
   "metadata": {},
   "outputs": [],
   "source": [
    "print(svect)"
   ]
  },
  {
   "cell_type": "code",
   "execution_count": null,
   "metadata": {},
   "outputs": [],
   "source": []
  }
 ],
 "metadata": {
  "kernelspec": {
   "display_name": "Python 3",
   "language": "python",
   "name": "python3"
  },
  "language_info": {
   "codemirror_mode": {
    "name": "ipython",
    "version": 3
   },
   "file_extension": ".py",
   "mimetype": "text/x-python",
   "name": "python",
   "nbconvert_exporter": "python",
   "pygments_lexer": "ipython3",
   "version": "3.7.5"
  }
 },
 "nbformat": 4,
 "nbformat_minor": 2
}
