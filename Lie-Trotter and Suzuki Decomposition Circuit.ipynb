{
 "cells": [
  {
   "cell_type": "code",
   "execution_count": 1,
   "metadata": {},
   "outputs": [],
   "source": [
    "from qiskit import QuantumRegister, ClassicalRegister, QuantumCircuit, BasicAer, execute\n",
    "from qiskit.aqua.utils.circuit_factory import CircuitFactory\n",
    "from exp_a4 import A4Factory\n",
    "from exp_a23 import A23Factory\n",
    "from exp_a1 import A1Factory\n",
    "import numpy as np\n",
    "from qiskit.tools.visualization import circuit_drawer\n",
    "from scipy.linalg import expm\n",
    "%matplotlib inline\n",
    "from qiskit.quantum_info.operators import Operator\n",
    "from qiskit.aqua.circuits.gates import mct\n",
    "# import FTSDFactory"
   ]
  },
  {
   "cell_type": "code",
   "execution_count": 2,
   "metadata": {},
   "outputs": [],
   "source": [
    "class FTSDFactory(CircuitFactory):\n",
    "    \"\"\"\n",
    "    When no time is provided the simulation runs for t=1. The target qubit is the less significant one.\n",
    "    \"\"\"\n",
    "    def __init__(self, num_target_qubits=1):\n",
    "        super().__init__(num_target_qubits)\n",
    "\n",
    "    def required_ancillas(self):\n",
    "        return 0\n",
    "\n",
    "    def required_ancillas_controlled(self):\n",
    "        return 0\n",
    "    \n",
    "    def build(self, qc, q, q_ancillas=None, params=1):\n",
    "        pass\n",
    "        # qc.u3(params, -np.pi/2, np.pi/2, q[0])\n",
    "\n",
    "    def build_controlled(self, qc, q, q_control, q_ancillas=None, t=1, kj=1, coefficient = [], matrix_index = []):\n",
    "        if len(coefficient) != len(matrix_index):\n",
    "            exit(\"Error.\")\n",
    "        a1 = A1Factory(n)\n",
    "        a23 = A23Factory(n)\n",
    "        a4 = A4Factory(n)\n",
    "        \n",
    "        for j in range(kj):\n",
    "          for i in range(len(matrix_index)):\n",
    "            qc.barrier()\n",
    "            if matrix_index[i] == 0:\n",
    "                a1.build_controlled(qc, q, q_control, q_ancillas, coefficient[i]*t/kj/2)\n",
    "            elif matrix_index[i]==1:\n",
    "                a23.build_controlled(qc, q, q_control, q_ancillas, coefficient[i]*t/kj/2)\n",
    "            elif matrix_index[i]==2:\n",
    "                a4.build_controlled(qc, q, q_control, q_ancillas, coefficient[i]*t/kj/2)\n",
    "            else:\n",
    "                exit(\"Wrong matrix index: \", i)\n",
    "\n",
    "    def build_inverse(self, qc, q, q_ancillas=None, params=1):\n",
    "        pass\n",
    "        # self.build(qc, q, q_ancillas, -params)\n",
    "\n",
    "    def build_controlled_inverse(self, qc, q, q_control, q_ancillas=None, params=1):\n",
    "        self.build_controlled(qc, q, q_control, q_ancillas, -params)"
   ]
  },
  {
   "cell_type": "code",
   "execution_count": 3,
   "metadata": {},
   "outputs": [],
   "source": [
    "def inverseindexvector(vector):\n",
    "    m = len(vector)\n",
    "    invector = np.zeros(m-1)\n",
    "    #Reorder the vector from m starting and ending with 1, we delete the first element of the vector!\n",
    "    for i in range(m-1):\n",
    "        invector[i] = vector[m-i-1] \n",
    "    return invector\n",
    "    \n",
    "\n",
    "def TS_matrixindex(indexvector, coefficientvector, trotterstepsize):\n",
    "    M = trotterstepsize\n",
    "    m = len(indexvector)-1\n",
    "    trottervector = [] #Naming is irrelevant to meaning\n",
    "    suzukivector = [] #Naming is irrelevant to meaning\n",
    "    repvector = np.zeros(2*m-1)\n",
    "    rep2vector = np.zeros(2*m-1)\n",
    "    \n",
    "    #The first value is the same as the index vector\n",
    "    trottervector = np.append(trottervector, indexvector[0])\n",
    "    suzukivector = np.append(suzukivector, coefficientvector[0])\n",
    "    opvector = inverseindexvector(indexvector)\n",
    "    op2vector = inverseindexvector(coefficientvector)\n",
    "    #Inside the Repetition (~~~)^M\n",
    "    #repvector=np.arange(m)[1:]\n",
    "    #reverser = repvector[::-1][1:]\n",
    "    #np.concatenate([repvector, reverser])\n",
    "    \n",
    "    for i in range(m):\n",
    "        repvector[i]=indexvector[i+1]\n",
    "        rep2vector[i]=coefficientvector[i+1]/(2*M)\n",
    "        \n",
    "    for i in range(m):\n",
    "        repvector[m+i-1]=opvector[i]\n",
    "        rep2vector[m+i-1]=op2vector[i]/(2*M)\n",
    "        if i == 0:\n",
    "            rep2vector[i] = 2*rep2vector[i]\n",
    "    \n",
    "    print(repvector)\n",
    "    print(rep2vector)\n",
    "    \n",
    "    for i  in range(M):\n",
    "        trottervector = np.append(trottervector, repvector)\n",
    "        suzukivector = np.append(suzukivector, rep2vector)\n",
    "    return (trottervector, suzukivector)"
   ]
  },
  {
   "cell_type": "code",
   "execution_count": 4,
   "metadata": {},
   "outputs": [
    {
     "name": "stdout",
     "output_type": "stream",
     "text": [
      "[0. 0. 0. 0. 0.]\n",
      "[0.19634954 0.09817477 0.09817477 0.09817477 0.09817477]\n"
     ]
    }
   ],
   "source": [
    "# number of qubits n, where size of the matrix is 2**n\n",
    "n = 2\n",
    "#Some other parameters\n",
    "t = 1 #Time\n",
    "m =  2 #Trotter Steps\n",
    "\n",
    "# number of ancilla qubits for the unitary operations themselves\n",
    "n_ancilla = n-1\n",
    "# number of ancilla qubits for controlling the unitary operations\n",
    "n_a_con = 1\n",
    "\n",
    "#vector for kvec\n",
    "k_vec = [1]\n",
    "\n",
    "# vector for the parameters of the matrices\n",
    "coefficientmatrix=[np.pi/8, np.pi/8,  np.pi/8,  np.pi/8]\n",
    "#coefficient = np.zeros(2*len(coefficientmatrix)-1)\n",
    "\n",
    "#vector for the type of matrix to calculate\n",
    "inputmatrix=[0, 0, 0, 0]\n",
    "#matrix_index = np.zeros(2*len(inputmatrix)-1)\n",
    "\n",
    "#calculate matrix index for m Trotter steps\n",
    "(matrix_index, coefficient) = TS_matrixindex(inputmatrix, coefficientmatrix, m)"
   ]
  },
  {
   "cell_type": "code",
   "execution_count": 5,
   "metadata": {},
   "outputs": [
    {
     "data": {
      "image/png": "[encoded data removed]",
      "text/plain": [
       "<Figure size 1754.23x325.08 with 1 Axes>"
      ]
     },
     "execution_count": 5,
     "metadata": {},
     "output_type": "execute_result"
    }
   ],
   "source": [
    "def get_circuit_1907p11679(t, k_vec):\n",
    "    qr = QuantumRegister(n, 'qr')\n",
    "    qra =  QuantumRegister(n_ancilla, 'qra')\n",
    "    qrac = QuantumRegister(n_a_con, 'qrac')\n",
    "    cr = ClassicalRegister(n+n_ancilla+n_a_con)\n",
    "    qc = QuantumCircuit(qr, qra, qrac, cr)\n",
    "    kj = k_vec[0]\n",
    "    \n",
    "    qc.x(qrac)\n",
    "    FTSDFactory(n).build_controlled(qc, qr, qrac[0], qra, t=t, kj=k_vec[0], coefficient=coefficient, matrix_index=matrix_index)\n",
    "    qc.barrier()\n",
    "    qc.x(qrac)\n",
    "    qc.measure(qrac, cr[0])\n",
    "    qc.draw(output='mpl')\n",
    "    return qc\n",
    "\n",
    "qc = get_circuit_1907p11679(t=1, k_vec=k_vec)\n",
    "qc.draw(output='mpl', fold=100)"
   ]
  },
  {
   "cell_type": "code",
   "execution_count": 6,
   "metadata": {},
   "outputs": [],
   "source": [
    "# Optional: send the simulation to ibm's simulator\n",
    "from qiskit import IBMQ\n",
    "from qiskit import BasicAer\n",
    "#IBMQ.load_account()\n",
    "#provider = IBMQ.get_provider(hub='ibm-q-hub-ntu')\n",
    "#backend = provider.get_backend('ibmq_qasm_simulator')\n",
    "#backend = BasicAer.get_backend('qasm_simulator')"
   ]
  },
  {
   "cell_type": "code",
   "execution_count": 7,
   "metadata": {},
   "outputs": [],
   "source": [
    "def get_approx_solution(t=1, k_vec=k_vec):\n",
    "    # Obtain vector from the circuit\n",
    "    backend = BasicAer.get_backend('statevector_simulator')\n",
    "    # Create a quantum circuit\n",
    "    qc = get_circuit_1907p11679(t=t, k_vec=k_vec)\n",
    "    # Create a Quantum Program for execution \n",
    "    job = execute(qc, backend)\n",
    "    # and store the result\n",
    "    result = job.result()\n",
    "    # Remember its an...a0qn..q0, where the a's are the ancilla\n",
    "    svect = result.get_statevector(qc)\n",
    "\n",
    "    # total number of qubits in the circuit\n",
    "    lastq = n+n_ancilla+n_a_con\n",
    "\n",
    "    formatstr = \"{0:0\"+str(lastq)+\"b}\"\n",
    "    # Final vector (i.e. approximate solution of e^iHt |x>)\n",
    "    approx_sol = [0]*(2**n)\n",
    "\n",
    "    totalnorm= 0\n",
    "    for i in range(0, len(svect)):\n",
    "        # Only consider the entries where the sum qubits are 0 (i.e. successful circuit)\n",
    "        if formatstr.format(i)[0:n_ancilla] == '0'*(n_a_con):\n",
    "                    totalnorm += np.real(svect[i]*np.conjugate(svect[i]))\n",
    "                    current_index = int(formatstr.format(i)[lastq-n:lastq][::-1], 2)\n",
    "                    approx_sol[current_index] += svect[i]\n",
    "    \n",
    "    approx_sol = approx_sol/np.sqrt(totalnorm)\n",
    "    return approx_sol"
   ]
  },
  {
   "cell_type": "code",
   "execution_count": 8,
   "metadata": {},
   "outputs": [],
   "source": [
    "def get_analytical_solution(t=1, initial_vector=np.append(1, [0]*((2**n)-1))):\n",
    "    # analytical case\n",
    "#     H23 = np.diag(np.append(np.array([0, b_2]*((2**(n-1))-1)),0), -1) + np.diag(np.append(np.array([0, b_2]*((2**(n-1))-1)),0), 1)\n",
    "#     H4 = np.diag(np.append(np.array([b_4, 0]*((2**(n-1))-1)),b_4), -1) + np.diag(np.append(np.array([b_4, 0]*((2**(n-1))-1)),b_4), 1)\n",
    "\n",
    "#     exact_exp = expm(1j*(H23+H4)*t)\n",
    "\n",
    "#     test = np.dot(exact_exp, np.append(1,[0]*((2**n)-1)))\n",
    "#     test /= np.linalg.norm(test)\n",
    "#     return test\n",
    "\n",
    "    H_sum = np.zeros(shape=[2**n, 2**n], dtype='float32')\n",
    "    for i in range(len(inputmatrix)):\n",
    "        if matrix_index[i] == 0:\n",
    "            b_1 = coefficientmatrix[i]*t            \n",
    "            H_sum += np.diag(np.array([b_1]*(2**n)))\n",
    "        elif matrix_index[i]==1:\n",
    "            b_2 = coefficientmatrix[i]*t\n",
    "            H_sum += np.diag(np.append(np.array([0, b_2]*((2**(n-1))-1)),0), -1) + np.diag(np.append(np.array([0, b_2]*((2**(n-1))-1)),0), 1)\n",
    "        elif matrix_index[i]==2:\n",
    "            b_4 = coefficientmatrix[i]*t\n",
    "            H_sum += np.diag(np.append(np.array([b_4, 0]*((2**(n-1))-1)),b_4), -1) + np.diag(np.append(np.array([b_4, 0]*((2**(n-1))-1)),b_4), 1)\n",
    "        else:\n",
    "            exit(\"Wrong matrix index: \", i)\n",
    "    \n",
    "    #H_sum /= np.linalg.norm(H_sum, ord=2)\n",
    "    exact_exp = expm(1j * H_sum * t * 1)\n",
    "\n",
    "    ret = np.dot(exact_exp, initial_vector)\n",
    "    ret /= np.linalg.norm(ret)\n",
    "    #print(H_sum)\n",
    "    return ret"
   ]
  },
  {
   "cell_type": "code",
   "execution_count": 9,
   "metadata": {},
   "outputs": [
    {
     "name": "stdout",
     "output_type": "stream",
     "text": [
      "approx:  [0.7071+0.7071j 0.    +0.j     0.    +0.j     0.    +0.j    ]\n",
      "exact:  [-8.0602e-08+1.j  0.0000e+00+0.j  0.0000e+00+0.j  0.0000e+00+0.j]\n",
      "0.7653669391971176\n"
     ]
    }
   ],
   "source": [
    "np.set_printoptions(precision=4)\n",
    "print(\"approx: \", get_approx_solution(t=1, k_vec=k_vec))\n",
    "print(\"exact: \", get_analytical_solution(t=1))\n",
    "approx = get_approx_solution(t=1, k_vec=k_vec)\n",
    "exact = get_analytical_solution(t=1)\n",
    "errors = approx - exact\n",
    "print(np.linalg.norm(errors, ord=2))"
   ]
  },
  {
   "cell_type": "code",
   "execution_count": null,
   "metadata": {},
   "outputs": [],
   "source": []
  }
 ],
 "metadata": {
  "kernelspec": {
   "display_name": "Python 3",
   "language": "python",
   "name": "python3"
  },
  "language_info": {
   "codemirror_mode": {
    "name": "ipython",
    "version": 3
   },
   "file_extension": ".py",
   "mimetype": "text/x-python",
   "name": "python",
   "nbconvert_exporter": "python",
   "pygments_lexer": "ipython3",
   "version": "3.7.4"
  }
 },
 "nbformat": 4,
 "nbformat_minor": 2
}
