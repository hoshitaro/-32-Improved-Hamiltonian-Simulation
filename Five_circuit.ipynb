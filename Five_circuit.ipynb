{
 "cells": [
  {
   "cell_type": "code",
   "execution_count": 30,
   "metadata": {},
   "outputs": [],
   "source": [
    "from qiskit import QuantumRegister, ClassicalRegister, QuantumCircuit, BasicAer, execute\n",
    "from qiskit.aqua.utils.circuit_factory import CircuitFactory\n",
    "from exp_a4 import A4Factory\n",
    "from exp_a23 import A23Factory\n",
    "from exp_a1 import A1Factory\n",
    "import numpy as np\n",
    "from qiskit.tools.visualization import circuit_drawer\n",
    "from scipy.linalg import expm\n",
    "%matplotlib inline\n",
    "from qiskit.quantum_info.operators import Operator\n",
    "from qiskit.aqua.circuits.gates import mct\n",
    "# import FTSDFactory"
   ]
  },
  {
   "cell_type": "code",
   "execution_count": 31,
   "metadata": {},
   "outputs": [],
   "source": [
    "# number of qubits n, where size of the matrix is 2**n\n",
    "n = 2\n",
    "# t = 1\n",
    "# b entry of the matrices\n",
    "# b_4 = 1/3\n",
    "# b_2 = 1/3\n",
    "# k\n",
    "m = 2 # how many different U should be summed together\n",
    "k_vec = []\n",
    "for i in range(m):\n",
    "    k_vec.append(1+i)\n",
    "\n",
    "# Number of elements in the sum (log_2 k)\n",
    "n_sum = int(np.ceil(np.log2(len(k_vec))))\n",
    "#n_sum = 3\n",
    "# number of ancilla qubits for the unitary operations themselves\n",
    "n_ancilla = n-1\n",
    "# number of ancilla qubits for controlling the unitary operations\n",
    "n_a_con = 1\n",
    "# number of ancilla qubits for multi-controlled toffoli\n",
    "n_toff = n_sum-2\n",
    "# Hamiltonian setting\n",
    "#matrix_index = [1]  # 0:a1, 1:a23, 2:a4\n",
    "#coefficient = [np.pi/16]  # params(e.g. theta) of each matrix\n",
    "matrix_index = [0, 1, 2]  # 0:a1, 1:a23, 2:a4\n",
    "coefficient = [np.pi/8, np.pi/8, np.pi/8]  # params(e.g. theta) of each matrix"
   ]
  },
  {
   "cell_type": "code",
   "execution_count": 32,
   "metadata": {},
   "outputs": [],
   "source": [
    "class FTSDFactory(CircuitFactory):\n",
    "    \"\"\"\n",
    "    When no time is provided the simulation runs for t=1. The target qubit is the less significant one.\n",
    "    \"\"\"\n",
    "    def __init__(self, num_target_qubits=1):\n",
    "        super().__init__(num_target_qubits)\n",
    "\n",
    "    def required_ancillas(self):\n",
    "        return 0\n",
    "\n",
    "    def required_ancillas_controlled(self):\n",
    "        return 0\n",
    "    \n",
    "    def build(self, qc, q, q_ancillas=None, params=1):\n",
    "        pass\n",
    "        # qc.u3(params, -np.pi/2, np.pi/2, q[0])\n",
    "\n",
    "    def build_controlled(self, qc, q, q_control, q_ancillas=None, t=1, kj=1, coefficient = [], matrix_index = []):\n",
    "        if len(coefficient) != len(matrix_index):\n",
    "            exit(\"Error.\")\n",
    "        a1 = A1Factory(n)\n",
    "        a23 = A23Factory(n)\n",
    "        a4 = A4Factory(n)\n",
    "        \n",
    "        doU1 = False\n",
    "        if doU1:\n",
    "            for j in range(kj):\n",
    "                for i in range(len(matrix_index)):\n",
    "                    if matrix_index[i] == 0:\n",
    "                        a1.build_controlled(qc, q, q_control, q_ancillas, coefficient[i]*t/kj)\n",
    "                    elif matrix_index[i]==1:\n",
    "                        a23.build_controlled(qc, q, q_control, q_ancillas, coefficient[i]*t/kj)\n",
    "                    elif matrix_index[i]==2:\n",
    "                        a4.build_controlled(qc, q, q_control, q_ancillas, coefficient[i]*t/kj)\n",
    "                    else:\n",
    "                        exit(\"Wrong matrix index: \", i)\n",
    "        else:\n",
    "            for j in range(kj):\n",
    "                for i in range(len(matrix_index)):\n",
    "                    if matrix_index[i] == 0:\n",
    "                        a1.build_controlled(qc, q, q_control, q_ancillas, coefficient[i]*t/kj/2)\n",
    "                    elif matrix_index[i]==1:\n",
    "                        a23.build_controlled(qc, q, q_control, q_ancillas, coefficient[i]*t/kj/2)\n",
    "                    elif matrix_index[i]==2:\n",
    "                        a4.build_controlled(qc, q, q_control, q_ancillas, coefficient[i]*t/kj/2)\n",
    "                    else:\n",
    "                        exit(\"Wrong matrix index: \", i)\n",
    "                for i in reversed(range(len(matrix_index))):\n",
    "                    if matrix_index[i] == 0:\n",
    "                        a1.build_controlled(qc, q, q_control, q_ancillas, coefficient[i]*t/kj/2)\n",
    "                    elif matrix_index[i]==1:\n",
    "                        a23.build_controlled(qc, q, q_control, q_ancillas, coefficient[i]*t/kj/2)\n",
    "                    elif matrix_index[i]==2:\n",
    "                        a4.build_controlled(qc, q, q_control, q_ancillas, coefficient[i]*t/kj/2)\n",
    "                    else:\n",
    "                        exit(\"Wrong matrix index: \", i)\n",
    "\n",
    "    def build_inverse(self, qc, q, q_ancillas=None, params=1):\n",
    "        pass\n",
    "        # self.build(qc, q, q_ancillas, -params)\n",
    "\n",
    "    def build_controlled_inverse(self, qc, q, q_control, q_ancillas=None, params=1):\n",
    "        pass\n",
    "        #self.build_controlled(qc, q, q_control, q_ancillas, -params)\n"
   ]
  },
  {
   "cell_type": "code",
   "execution_count": 33,
   "metadata": {},
   "outputs": [],
   "source": [
    "def uni_matrix_factory(last_column):\n",
    "    size = np.size(last_column)\n",
    "    col = last_column.reshape((size, 1))\n",
    "    a = np.zeros((size, size))\n",
    "\n",
    "    a[:, [-1]] = col\n",
    "    for i in range(size-1):\n",
    "        a[:i+1, [i]] = col[:i+1]\n",
    "        a[i+1, i] = - sum(col[:i+1]**2) / col[i+1]\n",
    "\n",
    "    for i in range(size):\n",
    "        a[:, i] = a[:, i] / np.sqrt(sum(a[:, i]**2))\n",
    "\n",
    "    a = np.fliplr(a)\n",
    "\n",
    "    if not check_power_of_a(a.shape[0], 2):\n",
    "        b = np.zeros((2**n_sum, 2**n_sum))\n",
    "        b[:size, :size] = a\n",
    "        a = b\n",
    "    \n",
    "    for i in range(size, int(2**np.ceil(np.log2(size)))):\n",
    "        a[i, i] = 1.\n",
    "    \n",
    "    a[np.isnan(a)] = 1\n",
    "\n",
    "    return a"
   ]
  },
  {
   "cell_type": "code",
   "execution_count": 34,
   "metadata": {},
   "outputs": [],
   "source": [
    "def check_power_of_a(n, a):\n",
    "    if n == 1:\n",
    "        return True\n",
    "    elif n % a == 0:\n",
    "        n = n / a\n",
    "        check_power_of_a(n, a)\n",
    "    else:\n",
    "        return False"
   ]
  },
  {
   "cell_type": "code",
   "execution_count": 35,
   "metadata": {},
   "outputs": [],
   "source": [
    "def dec2bin(decimal_number):\n",
    "    binlist = []\n",
    "    for i in range(len(bin(decimal_number))-2):\n",
    "        binlist.append(int(bin(decimal_number)[2+i]))\n",
    "    return binlist\n",
    "\n",
    "def permutation_control(qc, q_control_list, i):\n",
    "    binlist = dec2bin(i)\n",
    "    for j in range(len(binlist)):\n",
    "        if binlist[j]==1:\n",
    "            qc.x(q_control_list[len(binlist)-j-1])"
   ]
  },
  {
   "cell_type": "code",
   "execution_count": 40,
   "metadata": {},
   "outputs": [],
   "source": [
    "def put_mct(qc, qr_sum, qrac, n_toff, qrt=None):\n",
    "    if n_toff > 0:\n",
    "        qc.mct(qr_sum, qrac[0], qrt)\n",
    "    elif n_sum == 2:\n",
    "        qc.ccx(qr_sum[0], qr_sum[1], qrac)\n",
    "    else:\n",
    "        qc.cx(qr_sum[0], qrac)"
   ]
  },
  {
   "cell_type": "code",
   "execution_count": 37,
   "metadata": {},
   "outputs": [],
   "source": [
    "# Need to optimize when the size of k is large (this function uses double loop.)\n",
    "# arxiv:1907.11679 eq.5\n",
    "# return: aj: list\n",
    "def get_aj_from_kj(k):\n",
    "    m = len(k)\n",
    "    ret = []\n",
    "    for j in range(m):\n",
    "        if k[j] == 0.:\n",
    "            ret.append(0)\n",
    "        else:\n",
    "            aj = 1.\n",
    "            for q in range(m):\n",
    "                if j == q: continue;\n",
    "                aj *= 1 - np.square(k[q] / k[j])\n",
    "            ret.append(1 / aj)\n",
    "    return ret;\n",
    "\n",
    "def fill_zeros(k_vec):\n",
    "    for i in range(100):\n",
    "        if len(k_vec) == 2**i:\n",
    "            return k_vec\n",
    "        elif len(k_vec) > 2**i:\n",
    "            continue\n",
    "        elif i==99:\n",
    "            exit(\"Something strange\")\n",
    "        else:\n",
    "            for j in range(len(k_vec), 2**i):\n",
    "                k_vec.append(0)\n",
    "            break\n",
    "    return k_vec\n",
    "            "
   ]
  },
  {
   "cell_type": "code",
   "execution_count": 38,
   "metadata": {},
   "outputs": [],
   "source": [
    "def get_circuit_1907p11679(t, k_vec):\n",
    "    # TODO: for sums with more than 2 elements need to change qr[n] by the right index\n",
    "    #quantum register for the matrix\n",
    "    qr = QuantumRegister(n, 'qr')\n",
    "    qr_sum = QuantumRegister(n_sum, 'qr_sum')\n",
    "    #ancilla qubits\n",
    "    qra = QuantumRegister(n_ancilla, 'qra') if n_ancilla != 0 else QuantumRegister(1, 'qra')\n",
    "    qrac = QuantumRegister(n_a_con, 'qrac')\n",
    "    cr = ClassicalRegister(n+n_sum+n_ancilla+n_a_con, 'cr')\n",
    "    \n",
    "    if n_toff > 0:\n",
    "        qrt = QuantumRegister(n_toff)\n",
    "        qc = QuantumCircuit(qr, qr_sum, qra, qrac, qrt, cr)\n",
    "    else:\n",
    "        qc = QuantumCircuit(qr, qr_sum, qra, qrac, cr)\n",
    "\n",
    "    #create unitary operations given its last column {a_j}\n",
    "\n",
    "    #k_vec = fill_zeros(k_vec)\n",
    "    a_vector = get_aj_from_kj(k_vec)\n",
    "    a_vector = np.array(a_vector)\n",
    "    #a_vector =  np.arange(1, 2**n_sum+1)# a_vector has to be a power of 2\n",
    "    mat_A = uni_matrix_factory(a_vector)\n",
    "    op_A = Operator(mat_A)\n",
    "    op_B = Operator(mat_A.transpose())\n",
    "\n",
    "    # encode coefficient information through A matrix\n",
    "    qc.append(op_A, qr_sum)\n",
    "    qc.barrier()\n",
    "\n",
    "    for i_kj in range(len(k_vec)):\n",
    "    #for i in range(2**n_sum):\n",
    "        permutation_control(qc, qr_sum, i_kj)\n",
    "        if n_toff > 0:\n",
    "            put_mct(qc, qr_sum, qrac, n_toff, qrt)\n",
    "        else:\n",
    "            put_mct(qc, qr_sum, qrac, n_toff)\n",
    "        FTSDFactory(n).build_controlled(qc, qr, qrac[0], qra, t=1, kj=k_vec[i_kj], coefficient=coefficient, matrix_index=matrix_index)\n",
    "#         FTSDFactory(n).build_controlled(qc, qr, qrac[0], qra, t=1, kj=k_vec[i_kj], coefficient=coefficient, matrix_index=matrix_index[1])\n",
    "        if n_toff > 0:\n",
    "            put_mct(qc, qr_sum, qrac, n_toff, qrt)\n",
    "        else:\n",
    "            put_mct(qc, qr_sum, qrac, n_toff)\n",
    "        permutation_control(qc, qr_sum, i_kj)\n",
    "        qc.barrier()\n",
    "\n",
    "    # invert A matrix\n",
    "    qc.append(op_B, qr_sum)\n",
    "\n",
    "    qc.barrier()\n",
    "    # measurement of qr and qr_sum\n",
    "#     qc.measure(qra, cr[0:n_ancilla])\n",
    "#     qc.measure(qrac, cr[0:n_a_con])\n",
    "    qc.measure(qr_sum, cr[n:n+n_sum])\n",
    "\n",
    "    return qc"
   ]
  },
  {
   "cell_type": "code",
   "execution_count": 41,
   "metadata": {},
   "outputs": [
    {
     "data": {
      "image/png": "[encoded data removed]",
      "text/plain": [
       "<Figure size 4484.9x385.28 with 1 Axes>"
      ]
     },
     "execution_count": 41,
     "metadata": {},
     "output_type": "execute_result"
    }
   ],
   "source": [
    "# print(qc)\n",
    "# print(qr)\n",
    "# print(qrac[0])\n",
    "# print(qra)\n",
    "qc = get_circuit_1907p11679(t=1, k_vec=k_vec)\n",
    "qc.draw(output='mpl', fold=100)"
   ]
  },
  {
   "cell_type": "code",
   "execution_count": 12,
   "metadata": {},
   "outputs": [],
   "source": [
    "# Optional: send the simulation to ibm's simulator\n",
    "from qiskit import IBMQ\n",
    "from qiskit import BasicAer\n",
    "#IBMQ.load_account()\n",
    "#provider = IBMQ.get_provider(hub='ibm-q-hub-ntu')\n",
    "#backend = provider.get_backend('ibmq_qasm_simulator')\n",
    "#backend = BasicAer.get_backend('qasm_simulator')"
   ]
  },
  {
   "cell_type": "code",
   "execution_count": 42,
   "metadata": {},
   "outputs": [],
   "source": [
    "def get_approx_solution(t=1, k_vec=k_vec):\n",
    "    # Obtain vector from the circuit\n",
    "    backend = BasicAer.get_backend('statevector_simulator')\n",
    "    # Create a quantum circuit\n",
    "    qc = get_circuit_1907p11679(t=t, k_vec=k_vec)\n",
    "    # Create a Quantum Program for execution \n",
    "    job = execute(qc, backend)\n",
    "    # and store the result\n",
    "    result = job.result()\n",
    "    # Remember its an...a0qn..q0, where the a's are the ancilla\n",
    "    svect = result.get_statevector(qc)\n",
    "    \n",
    "    # total number of qubits in the circuit\n",
    "    lastq = n+n_sum+n_ancilla+n_a_con\n",
    "\n",
    "    formatstr = \"{0:0\"+str(lastq)+\"b}\"\n",
    "    # Final vector (i.e. approximate solution of e^iHt |x>)\n",
    "    approx_sol = [0]*(2**n)\n",
    "    \n",
    "    #print(\"svect: \", svect)\n",
    "\n",
    "    totalnorm= 0\n",
    "    for i in range(0, len(svect)):\n",
    "        # Only consider the entries where the sum qubits are 0 (i.e. successful circuit)\n",
    "        if formatstr.format(i)[n:n+n_sum] == '0'*(n_sum):\n",
    "            totalnorm += np.real(svect[i]*np.conjugate(svect[i]))\n",
    "            index_bit = formatstr.format(i)[-n:][::-1]\n",
    "            index_bit = ''.join(list(reversed(index_bit.strip())))\n",
    "            current_index = int(index_bit, 2)\n",
    "            approx_sol[current_index] += svect[i]\n",
    "\n",
    "    approx_sol = approx_sol/np.sqrt(totalnorm)\n",
    "    return approx_sol"
   ]
  },
  {
   "cell_type": "code",
   "execution_count": 43,
   "metadata": {},
   "outputs": [],
   "source": [
    "def get_analytical_solution(t=1, initial_vector=np.append(1, [0]*((2**n)-1))):\n",
    "    # analytical case\n",
    "#     H23 = np.diag(np.append(np.array([0, b_2]*((2**(n-1))-1)),0), -1) + np.diag(np.append(np.array([0, b_2]*((2**(n-1))-1)),0), 1)\n",
    "#     H4 = np.diag(np.append(np.array([b_4, 0]*((2**(n-1))-1)),b_4), -1) + np.diag(np.append(np.array([b_4, 0]*((2**(n-1))-1)),b_4), 1)\n",
    "\n",
    "#     exact_exp = expm(1j*(H23+H4)*t)\n",
    "\n",
    "#     test = np.dot(exact_exp, np.append(1,[0]*((2**n)-1)))\n",
    "#     test /= np.linalg.norm(test)\n",
    "#     return test\n",
    "\n",
    "    H_sum = np.zeros(shape=[2**n, 2**n], dtype='float32')\n",
    "    for i in range(len(matrix_index)):\n",
    "        if matrix_index[i] == 0:\n",
    "            b_1 = -coefficient[i]*t            \n",
    "            H_sum += np.diag(np.array([b_1]*(2**n)))\n",
    "        elif matrix_index[i]==1:\n",
    "            b_2 = coefficient[i]*t\n",
    "            H_sum += np.diag(np.append(np.array([0, b_2]*((2**(n-1))-1)),0), -1) + np.diag(np.append(np.array([0, b_2]*((2**(n-1))-1)),0), 1)\n",
    "        elif matrix_index[i]==2:\n",
    "            b_4 = coefficient[i]*t/2.\n",
    "            H_sum += np.diag(np.append(np.array([b_4, 0]*((2**(n-1))-1)),b_4), -1) + np.diag(np.append(np.array([b_4, 0]*((2**(n-1))-1)),b_4), 1)\n",
    "        else:\n",
    "            exit(\"Wrong matrix index: \", i)\n",
    "    \n",
    "    #H_sum /= np.linalg.norm(H_sum, ord=2)\n",
    "    exact_exp = expm(-1j * H_sum * t * 1.0)\n",
    "    \n",
    "    #exact_exp = exact_exp.transpose()\n",
    "\n",
    "    ret = np.dot(exact_exp, initial_vector)\n",
    "    ret /= np.linalg.norm(ret)\n",
    "#     print('Exact H', H_sum)\n",
    "    #print(exact_exp)\n",
    "    \n",
    "    # Some temporary hack\n",
    "    #ret = ret.reshape([2**n, 2**n])\n",
    "    \n",
    "    return ret\n"
   ]
  },
  {
   "cell_type": "markdown",
   "metadata": {},
   "source": [
    "## Test the fidelity for m = 10 (k_vec = [2, 3, ..., 11])"
   ]
  },
  {
   "cell_type": "code",
   "execution_count": 44,
   "metadata": {},
   "outputs": [],
   "source": [
    "m = 2 # how many different U should be summed together\n",
    "k_vec = []\n",
    "for i in range(m):\n",
    "    k_vec.append(2+i)"
   ]
  },
  {
   "cell_type": "code",
   "execution_count": 45,
   "metadata": {},
   "outputs": [
    {
     "name": "stdout",
     "output_type": "stream",
     "text": [
      "approx:  [9.06e-01+0.38j 7.29e-02-0.18j 3.50e-02+0.01j 7.39e-04-0.j  ]\n",
      "exact:  [ 0.91+0.38j  0.07-0.18j -0.03-0.01j -0.  +0.j  ]\n"
     ]
    }
   ],
   "source": [
    "np.set_printoptions(precision=2)\n",
    "approx = get_approx_solution(t=1, k_vec = k_vec)\n",
    "exact = get_analytical_solution(t=1)\n",
    "print(\"approx: \", approx)\n",
    "print(\"exact: \", exact)"
   ]
  },
  {
   "cell_type": "code",
   "execution_count": 46,
   "metadata": {},
   "outputs": [
    {
     "name": "stdout",
     "output_type": "stream",
     "text": [
      "Fidelity is  0.9241833400292377\n"
     ]
    }
   ],
   "source": [
    "diff = abs(approx - exact)\n",
    "sqr = 0\n",
    "for i in range(len(diff)):\n",
    "    sqr += diff[i]**2\n",
    "distance = np.sqrt(sqr)\n",
    "print('Fidelity is ', 1-distance)"
   ]
  },
  {
   "cell_type": "markdown",
   "metadata": {},
   "source": [
    "## Prepare the plot of fidelity"
   ]
  },
  {
   "cell_type": "code",
   "execution_count": 68,
   "metadata": {},
   "outputs": [],
   "source": [
    "def circuit_fidelity(m):\n",
    "    m = 3\n",
    "    k_vec = []\n",
    "    for i in range(m):\n",
    "        k_vec.append(1+i)\n",
    "#     print(k_vec)\n",
    "\n",
    "    n_sum = int(np.ceil(np.log2(len(k_vec))))\n",
    "\n",
    "    # number of ancilla qubits for the unitary operations themselves\n",
    "    n_ancilla = n-1\n",
    "\n",
    "    # number of ancilla qubits for controlling the unitary operations\n",
    "    n_a_con = 1\n",
    "\n",
    "    # number of ancilla qubits for multi-controlled toffoli\n",
    "    n_toff = n_sum-2\n",
    "\n",
    "    # Hamiltonian setting\n",
    "    matrix_index = [0, 1, 2]  # 0:a1, 1:a23, 2:a4\n",
    "    coefficient = [np.pi/8, np.pi/8, np.pi/8]  # params(e.g. theta) of each matrix\n",
    "\n",
    "    approx = get_approx_solution(t=1, k_vec = k_vec)\n",
    "    exact = get_analytical_solution(t=1)\n",
    "    diff = abs(approx - exact)\n",
    "    sqr = 0\n",
    "    for i in range(len(diff)):\n",
    "        sqr += diff[i]**2\n",
    "    distance = np.sqrt(sqr)\n",
    "#     print('Fidelity is ', 1-distance)\n",
    "    return 1-distance"
   ]
  },
  {
   "cell_type": "code",
   "execution_count": 69,
   "metadata": {},
   "outputs": [
    {
     "data": {
      "text/plain": [
       "0.9241955708378347"
      ]
     },
     "execution_count": 69,
     "metadata": {},
     "output_type": "execute_result"
    }
   ],
   "source": [
    "circuit_fidelity(6)"
   ]
  }
 ],
 "metadata": {
  "kernelspec": {
   "display_name": "Python 3",
   "language": "python",
   "name": "python3"
  },
  "language_info": {
   "codemirror_mode": {
    "name": "ipython",
    "version": 3
   },
   "file_extension": ".py",
   "mimetype": "text/x-python",
   "name": "python",
   "nbconvert_exporter": "python",
   "pygments_lexer": "ipython3",
   "version": "3.7.5"
  }
 },
 "nbformat": 4,
 "nbformat_minor": 2
}
