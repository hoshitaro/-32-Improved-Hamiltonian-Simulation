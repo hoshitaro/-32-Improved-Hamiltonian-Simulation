{
 "cells": [
  {
   "cell_type": "code",
   "execution_count": 1,
   "metadata": {},
   "outputs": [],
   "source": [
    "from qiskit import QuantumRegister, ClassicalRegister, QuantumCircuit, BasicAer, execute\n",
    "from exp_a4 import A4Factory\n",
    "from exp_a23 import A23Factory\n",
    "import numpy as np\n",
    "from qiskit.tools.visualization import circuit_drawer\n",
    "from scipy.linalg import expm\n",
    "%matplotlib inline"
   ]
  },
  {
   "cell_type": "code",
   "execution_count": 2,
   "metadata": {},
   "outputs": [],
   "source": [
    "# number of qubits n, where size of the matrix is 2**n\n",
    "n = 2\n",
    "t = 1\n",
    "# b entry of the matrices\n",
    "b_4 = 1/3\n",
    "b_2 = 1/3\n",
    "# Number of elements in the sum\n",
    "n_sum = 1\n",
    "# number of ancilla qubits\n",
    "n_ancilla = n-1"
   ]
  },
  {
   "cell_type": "code",
   "execution_count": 3,
   "metadata": {},
   "outputs": [
    {
     "data": {
      "text/plain": [
       "<qiskit.circuit.instructionset.InstructionSet at 0x1e3e31a1e08>"
      ]
     },
     "execution_count": 3,
     "metadata": {},
     "output_type": "execute_result"
    }
   ],
   "source": [
    "# TODO: for sums with more than 2 elements need to change qr[n] by the right index\n",
    "#quantum register for the matrix\n",
    "qr = QuantumRegister(n)\n",
    "qr_sum = QuantumRegister(n_sum)\n",
    "#ancilla qubits\n",
    "qra = QuantumRegister(n_ancilla)\n",
    "cr = ClassicalRegister(n+n_sum+n_ancilla)\n",
    "qc = QuantumCircuit(qr, qr_sum, qra, cr)\n",
    "# TODO: substitute H by V\n",
    "qc.h(qr_sum[0])\n",
    "\n",
    "# TODO: substitute by suitable exp(iH_jt)\n",
    "\n",
    "#1 controlled H_1 (here is exp_a4)\n",
    "A4Factory(n).build_controlled(qc, qr, qr_sum[0], qra, b_4*t)\n",
    "#0 controlled H_2 (here is exp_a23)\n",
    "qc.x(qr_sum[0])\n",
    "A23Factory(n).build_controlled(qc, qr, qr_sum[0], qra, b_2*t)\n",
    "qc.x(qr_sum[0])\n",
    "\n",
    "# TODO: substitute H by V^dagger\n",
    "qc.h(qr_sum[0])"
   ]
  },
  {
   "cell_type": "code",
   "execution_count": 28,
   "metadata": {},
   "outputs": [],
   "source": [
    "# TODO: add some measurement\n",
    "# Obtain vector from the circuit\n",
    "# Measure\n",
    "backend = BasicAer.get_backend('statevector_simulator')\n",
    "# Create a Quantum Program for execution \n",
    "job = execute(qc, backend)\n",
    "# and store the result\n",
    "result = job.result()\n",
    "# Remember its an...a0qn..q0, where the a's are the ancilla\n",
    "svect = result.get_statevector(qc)\n",
    "\n",
    "# total number of qubits in the circuit\n",
    "lastq = n+n_sum+n_ancilla\n",
    "\n",
    "formatstr = \"{0:0\"+str(lastq)+\"b}\"\n",
    "# Final vector (i.e. approximate solution of e^iHt |x>)\n",
    "approx_sol = [0]*(2**n)\n",
    "\n",
    "totalnorm= 0\n",
    "for i in range(0, len(svect)):\n",
    "    # Only consider the entries where the sum qubits are 0 (i.e. successful circuit)\n",
    "    if formatstr.format(i)[0:n_ancilla+n_sum] == '0'*(n_ancilla+n_sum):\n",
    "                totalnorm += np.real(svect[i]*np.conjugate(svect[i]))\n",
    "                current_index = int(formatstr.format(i)[lastq-n:lastq][::-1], 2)\n",
    "                approx_sol[current_index] += svect[i]\n",
    "                \n",
    "approx_sol = approx_sol/np.sqrt(totalnorm)"
   ]
  },
  {
   "cell_type": "code",
   "execution_count": 29,
   "metadata": {},
   "outputs": [
    {
     "name": "stdout",
     "output_type": "stream",
     "text": [
      "[ 0.94546377+0.j          0.        +0.32115795j -0.05402751+0.j\n",
      "  0.        -0.00607068j]\n",
      "[0.99652979+0.j         0.        +0.j         0.        -0.08323692j\n",
      " 0.        +0.j        ]\n"
     ]
    }
   ],
   "source": [
    "# analytical case\n",
    "H23 = np.diag(np.append(np.array([0, b_2]*((2**(n-1))-1)),0), -1) + np.diag(np.append(np.array([0, b_2]*((2**(n-1))-1)),0), 1)\n",
    "H4 = np.diag(np.append(np.array([b_4, 0]*((2**(n-1))-1)),b_4), -1) + np.diag(np.append(np.array([b_4, 0]*((2**(n-1))-1)),b_4), 1)\n",
    "\n",
    "exact_exp = expm(1j*(H23+H4)*t)\n",
    "\n",
    "test = np.dot(exact_exp, np.append(1,[0]*((2**n)-1)))\n",
    "print(test/np.linalg.norm(test))\n",
    "print(approx_sol)"
   ]
  },
  {
   "cell_type": "code",
   "execution_count": 27,
   "metadata": {},
   "outputs": [
    {
     "name": "stdout",
     "output_type": "stream",
     "text": [
      "[0.99307162+0.j         0.        -0.08294807j 0.        +0.j\n",
      " 0.        +0.j         0.00692838+0.j         0.        +0.08294807j\n",
      " 0.        +0.j         0.        +0.j         0.        +0.j\n",
      " 0.        +0.j         0.        +0.j         0.        +0.j\n",
      " 0.        +0.j         0.        +0.j         0.        +0.j\n",
      " 0.        +0.j        ]\n"
     ]
    }
   ],
   "source": [
    "print(svect)"
   ]
  },
  {
   "cell_type": "code",
   "execution_count": null,
   "metadata": {},
   "outputs": [],
   "source": []
  }
 ],
 "metadata": {
  "kernelspec": {
   "display_name": "august_kernel",
   "language": "python",
   "name": "august_qiskit"
  },
  "language_info": {
   "codemirror_mode": {
    "name": "ipython",
    "version": 3
   },
   "file_extension": ".py",
   "mimetype": "text/x-python",
   "name": "python",
   "nbconvert_exporter": "python",
   "pygments_lexer": "ipython3",
   "version": "3.7.4"
  }
 },
 "nbformat": 4,
 "nbformat_minor": 2
}
