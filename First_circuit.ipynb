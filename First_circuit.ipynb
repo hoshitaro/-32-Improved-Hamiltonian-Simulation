{
 "cells": [
  {
   "cell_type": "code",
   "execution_count": 1,
   "metadata": {},
   "outputs": [],
   "source": [
    "from qiskit import QuantumRegister, ClassicalRegister, QuantumCircuit, BasicAer, execute\n",
    "from exp_a4 import A4Factory\n",
    "from exp_a23 import A23Factory\n",
    "import numpy as np"
   ]
  },
  {
   "cell_type": "code",
   "execution_count": 11,
   "metadata": {},
   "outputs": [],
   "source": [
    "# number of qubits n, where size of the matrix is 2**n\n",
    "n = 3\n",
    "t = 1\n",
    "# b entry of the matrices\n",
    "b_4 = 2\n",
    "b_2 = 3\n",
    "\n",
    "#quantum register for the matrix\n",
    "qr = QuantumRegister(n+1)\n",
    "#ancilla qubits\n",
    "qra = QuantumRegister(n-1)\n",
    "cr = ClassicalRegister(2*n)\n",
    "qc = QuantumCircuit(qr, qra, cr)"
   ]
  },
  {
   "cell_type": "code",
   "execution_count": 12,
   "metadata": {},
   "outputs": [
    {
     "data": {
      "text/plain": [
       "<qiskit.circuit.instructionset.InstructionSet at 0x20170c17508>"
      ]
     },
     "execution_count": 12,
     "metadata": {},
     "output_type": "execute_result"
    }
   ],
   "source": [
    "# TODO: substitute H by V\n",
    "qc.h(qra[0])\n",
    "\n",
    "# TODO: substitute by suitable exp(iH_jt)\n",
    "\n",
    "#1 controlled H_1 (here is exp_a4)\n",
    "A4Factory(n).build_controlled(qc, qr, qr[n], qra, b_4*t)\n",
    "#0 controlled H_2 (here is exp_a23)\n",
    "qc.x(qra[0])\n",
    "A23Factory(n).build_controlled(qc, qr, qr[n], qra, b_2*t)\n",
    "qc.x(qra[0])\n",
    "\n",
    "# TODO: substitute H by V^dagger\n",
    "qc.h(qra[0])"
   ]
  },
  {
   "cell_type": "code",
   "execution_count": null,
   "metadata": {},
   "outputs": [],
   "source": [
    "# TODO: add some measurement"
   ]
  },
  {
   "cell_type": "code",
   "execution_count": null,
   "metadata": {},
   "outputs": [],
   "source": []
  }
 ],
 "metadata": {
  "kernelspec": {
   "display_name": "august_kernel",
   "language": "python",
   "name": "august_qiskit"
  },
  "language_info": {
   "codemirror_mode": {
    "name": "ipython",
    "version": 3
   },
   "file_extension": ".py",
   "mimetype": "text/x-python",
   "name": "python",
   "nbconvert_exporter": "python",
   "pygments_lexer": "ipython3",
   "version": "3.7.4"
  }
 },
 "nbformat": 4,
 "nbformat_minor": 2
}
