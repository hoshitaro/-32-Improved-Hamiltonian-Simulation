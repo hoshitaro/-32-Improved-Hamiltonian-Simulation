{
 "cells": [
  {
   "cell_type": "code",
   "execution_count": 1,
   "metadata": {},
   "outputs": [],
   "source": [
    "from qiskit import QuantumRegister, ClassicalRegister, QuantumCircuit, BasicAer, execute\n",
    "from exp_a4 import A4Factory\n",
    "from exp_a23 import A23Factory\n",
    "import numpy as np\n",
    "from qiskit.tools.visualization import circuit_drawer\n",
    "from scipy.linalg import expm\n",
    "%matplotlib inline\n",
    "from qiskit.quantum_info.operators import Operator\n",
    "from qiskit.aqua.circuits.gates import mct"
   ]
  },
  {
   "cell_type": "code",
   "execution_count": 2,
   "metadata": {},
   "outputs": [],
   "source": [
    "# number of qubits n, where size of the matrix is 2**n\n",
    "n = 2\n",
    "t = 1\n",
    "# b entry of the matrices\n",
    "b_4 = 1/3\n",
    "b_2 = 1/3\n",
    "# Number of elements in the sum (log_2 k)\n",
    "n_sum = 1\n",
    "# number of ancilla qubits for the unitary operations themselves\n",
    "n_ancilla = n-1\n",
    "# number of ancilla qubits for controlling the unitary operations\n",
    "n_a_con = 1\n",
    "# number of ancilla qubits for multi-controlled toffoli\n",
    "n_toff = n_sum-2"
   ]
  },
  {
   "cell_type": "code",
   "execution_count": 3,
   "metadata": {},
   "outputs": [],
   "source": [
    "def uni_matrix_factory(last_column):\n",
    "    size = np.size(last_column)\n",
    "    col = last_column.reshape((size, 1))\n",
    "    a = np.zeros((size, size))\n",
    "\n",
    "    a[:, [-1]] = col\n",
    "    for i in range(size-1):\n",
    "        a[:i+1, [i]] = col[:i+1]\n",
    "        a[i+1, i] = - sum(col[:i+1]**2) / col[i+1]\n",
    "\n",
    "    for i in range(size):\n",
    "        a[:, i] = a[:, i] / np.sqrt(sum(a[:, i]**2))\n",
    "\n",
    "    a = np.fliplr(a)\n",
    "    return a"
   ]
  },
  {
   "cell_type": "code",
   "execution_count": 4,
   "metadata": {},
   "outputs": [],
   "source": [
    "def check_power_of_a(n, a):\n",
    "    if n == 1:\n",
    "        return True\n",
    "    elif n % a == 0:\n",
    "        n = n / a\n",
    "        check_power_of_a(n, a)\n",
    "    else:\n",
    "        return False"
   ]
  },
  {
   "cell_type": "code",
   "execution_count": 5,
   "metadata": {},
   "outputs": [],
   "source": [
    "# TODO: for sums with more than 2 elements need to change qr[n] by the right index\n",
    "#quantum register for the matrix\n",
    "qr = QuantumRegister(n)\n",
    "qr_sum = QuantumRegister(n_sum)\n",
    "#ancilla qubits\n",
    "qra = QuantumRegister(n_ancilla)\n",
    "qrac = QuantumRegister(n_a_con)\n",
    "cr = ClassicalRegister(n+n_sum+n_ancilla+n_a_con)\n",
    "qc = QuantumCircuit(qr, qr_sum, qra, cr)\n",
    "if n_toff > 0:\n",
    "    qrt = QuantumRegister(n_toff)"
   ]
  },
  {
   "cell_type": "code",
   "execution_count": 6,
   "metadata": {},
   "outputs": [
    {
     "ename": "SyntaxError",
     "evalue": "invalid syntax (<ipython-input-6-8c218cca8548>, line 2)",
     "output_type": "error",
     "traceback": [
      "\u001b[1;36m  File \u001b[1;32m\"<ipython-input-6-8c218cca8548>\"\u001b[1;36m, line \u001b[1;32m2\u001b[0m\n\u001b[1;33m    a_vector =  # a_vector has to be a power of 2\u001b[0m\n\u001b[1;37m                                                 ^\u001b[0m\n\u001b[1;31mSyntaxError\u001b[0m\u001b[1;31m:\u001b[0m invalid syntax\n"
     ]
    }
   ],
   "source": [
    "#create unitary operations given its last column {a_j}\n",
    "a_vector =  # a_vector has to be a power of 2\n",
    "mat_A = uni_matrix_factory(a_vector)\n",
    "op_A = Operator(mat_A)\n",
    "op_B = Operator(mat_A.transpose)"
   ]
  },
  {
   "cell_type": "code",
   "execution_count": null,
   "metadata": {},
   "outputs": [],
   "source": [
    "# encode coefficient information through A matrix\n",
    "qc.append(op_A, qr_sum)\n",
    "qc.barrier()\n",
    "\n",
    "for i in range(2**n_sum):\n",
    "    #\n",
    "    qc.mct(qr_sum, qrac, qrt)\n",
    "    #\n",
    "    # TODO: substitute by suitable exp(iH_jt)\n",
    "    A4Factory(n).build_controlled(qc, qr, qrac[0], qra, b_4*t)\n",
    "    #\n",
    "    qc.mct(qr_sum, qrac, qrt)\n",
    "    #\n",
    "\n",
    "qc.barrier()\n",
    "# invert A matrix\n",
    "qc.append(op_B, qr_sum)\n",
    "\n",
    "qc.barrier()\n",
    "# measurement of qr and qr_sum\n",
    "qc.measure(qr, cr[0:n])\n",
    "qc.measure(qr_sum, cr[n:n+n_sum])"
   ]
  },
  {
   "cell_type": "code",
   "execution_count": null,
   "metadata": {},
   "outputs": [],
   "source": [
    "qc.draw(output='mpl')"
   ]
  },
  {
   "cell_type": "code",
   "execution_count": null,
   "metadata": {},
   "outputs": [],
   "source": [
    "# Optional: send the simulation to ibm's simulator\n",
    "from qiskit import IBMQ\n",
    "IBMQ.load_account()\n",
    "provider = IBMQ.get_provider(hub='ibm-q-hub-ntu')\n",
    "backend = provider.get_backend('ibmq_qasm_simulator')"
   ]
  },
  {
   "cell_type": "code",
   "execution_count": null,
   "metadata": {},
   "outputs": [],
   "source": [
    "# Obtain vector from the circuit\n",
    "# backend = BasicAer.get_backend('statevector_simulator')\n",
    "# Create a Quantum Program for execution \n",
    "job = execute(qc, backend)\n",
    "# and store the result\n",
    "result = job.result()\n",
    "# Remember its an...a0qn..q0, where the a's are the ancilla\n",
    "svect = result.get_statevector(qc)\n",
    "\n",
    "# total number of qubits in the circuit\n",
    "lastq = n+n_sum+n_ancilla+n_a_con\n",
    "\n",
    "formatstr = \"{0:0\"+str(lastq)+\"b}\"\n",
    "# Final vector (i.e. approximate solution of e^iHt |x>)\n",
    "approx_sol = [0]*(2**n)\n",
    "\n",
    "totalnorm= 0\n",
    "for i in range(0, len(svect)):\n",
    "    # Only consider the entries where the sum qubits are 0 (i.e. successful circuit)\n",
    "    if formatstr.format(i)[0:n_ancilla+n_sum] == '0'*(n_ancilla+n_sum):\n",
    "                totalnorm += np.real(svect[i]*np.conjugate(svect[i]))\n",
    "                current_index = int(formatstr.format(i)[lastq-n:lastq][::-1], 2)\n",
    "                approx_sol[current_index] += svect[i]\n",
    "                \n",
    "approx_sol = approx_sol/np.sqrt(totalnorm)"
   ]
  },
  {
   "cell_type": "code",
   "execution_count": null,
   "metadata": {},
   "outputs": [],
   "source": [
    "# analytical case\n",
    "H23 = np.diag(np.append(np.array([0, b_2]*((2**(n-1))-1)),0), -1) + np.diag(np.append(np.array([0, b_2]*((2**(n-1))-1)),0), 1)\n",
    "H4 = np.diag(np.append(np.array([b_4, 0]*((2**(n-1))-1)),b_4), -1) + np.diag(np.append(np.array([b_4, 0]*((2**(n-1))-1)),b_4), 1)\n",
    "\n",
    "exact_exp = expm(1j*(H23+H4)*t)\n",
    "\n",
    "test = np.dot(exact_exp, np.append(1,[0]*((2**n)-1)))\n",
    "print(test/np.linalg.norm(test))\n",
    "print(approx_sol)"
   ]
  },
  {
   "cell_type": "code",
   "execution_count": null,
   "metadata": {},
   "outputs": [],
   "source": [
    "print(svect)"
   ]
  },
  {
   "cell_type": "code",
   "execution_count": null,
   "metadata": {},
   "outputs": [],
   "source": []
  }
 ],
 "metadata": {
  "kernelspec": {
   "display_name": "Python 3",
   "language": "python",
   "name": "python3"
  },
  "language_info": {
   "codemirror_mode": {
    "name": "ipython",
    "version": 3
   },
   "file_extension": ".py",
   "mimetype": "text/x-python",
   "name": "python",
   "nbconvert_exporter": "python",
   "pygments_lexer": "ipython3",
   "version": "3.7.1"
  }
 },
 "nbformat": 4,
 "nbformat_minor": 2
}
